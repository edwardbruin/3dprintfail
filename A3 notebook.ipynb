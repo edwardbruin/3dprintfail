{
 "cells": [
  {
   "cell_type": "code",
   "execution_count": null,
   "id": "471e42d2-1572-4ee6-a612-fa4b5dde2e09",
   "metadata": {
    "tags": []
   },
   "outputs": [],
   "source": [
    "!git clone https://github.com/nabinsharmaUTS/ObjectDetection-FasterRCNN.git"
   ]
  },
  {
   "cell_type": "code",
   "execution_count": null,
   "id": "ba11b74d-da7c-4cb6-818b-5838a1be8c5c",
   "metadata": {
    "tags": []
   },
   "outputs": [],
   "source": [
    "%cd ObjectDetection-FasterRCNN/"
   ]
  },
  {
   "cell_type": "code",
   "execution_count": null,
   "id": "83ade865-1fd7-43a6-a7b8-972de08117bb",
   "metadata": {
    "tags": []
   },
   "outputs": [],
   "source": [
    "!pip install -r requirements.txt"
   ]
  },
  {
   "cell_type": "code",
   "execution_count": null,
   "id": "6c0abd3d-7c50-4081-b1b3-891456022e5b",
   "metadata": {
    "tags": []
   },
   "outputs": [],
   "source": [
    "%%writefile data_configs/custom_data.yaml\n",
    "# Images and labels direcotry should be relative to train.py\n",
    "# WRITE YOUR PATH HERE:\n",
    "TRAIN_DIR_IMAGES: '3D-printing-error-7/train/'\n",
    "TRAIN_DIR_LABELS: '3D-printing-error-7/train/'\n",
    "VALID_DIR_IMAGES: '3D-printing-error-7/valid/'\n",
    "VALID_DIR_LABELS: '3D-printing-error-7/valid/'\n",
    "\n",
    "# Class names.\n",
    "# WRITE YOUR CLASSES HERE - DO NOT REMOVE __background__ CLASS:\n",
    "CLASSES: [\n",
    "    '__background__',\n",
    "    'error extrusion',\n",
    "    'spaghetti',\n",
    "    'stringing',\n",
    "    'warping',\n",
    "    'zits'\n",
    "]\n",
    "\n",
    "# Number of classes (object classes + 1 for background class in Faster RCNN).\n",
    "# WRITE NUMBER OF CLASSES:\n",
    "NC: 6\n",
    "\n",
    "# Whether to save the predictions of the validation set while training.\n",
    "SAVE_VALID_PREDICTION_IMAGES: True"
   ]
  },
  {
   "cell_type": "code",
   "execution_count": null,
   "id": "237e19e2-5bfa-481f-83c6-37054bee5f23",
   "metadata": {
    "tags": []
   },
   "outputs": [],
   "source": [
    "!wandb disabled"
   ]
  },
  {
   "cell_type": "code",
   "execution_count": null,
   "id": "f9a7798b-1604-4f61-9756-b6094c8bb843",
   "metadata": {
    "tags": []
   },
   "outputs": [],
   "source": [
    "%pwd"
   ]
  },
  {
   "cell_type": "code",
   "execution_count": null,
   "id": "f38f474f-3c34-4b9c-b9d0-98d3d42f1db3",
   "metadata": {
    "tags": []
   },
   "outputs": [],
   "source": [
    "#!pip install roboflow\n",
    "\n",
    "from roboflow import Roboflow\n",
    "rf = Roboflow(api_key=\"vS3c2htpHXwFwjMFFEi2\")\n",
    "project = rf.workspace(\"atco\").project(\"3d-printing-error\")"
   ]
  },
  {
   "cell_type": "code",
   "execution_count": null,
   "id": "ecfb6a9e-8cf8-4470-b8bb-9541e65b2cb5",
   "metadata": {
    "tags": []
   },
   "outputs": [],
   "source": [
    "version = project.version(7)\n",
    "dataset = version.download(\"voc\")"
   ]
  },
  {
   "cell_type": "code",
   "execution_count": 17,
   "id": "b41c05d2-3d20-4325-b28f-8421a276d676",
   "metadata": {
    "tags": []
   },
   "outputs": [
    {
     "name": "stdout",
     "output_type": "stream",
     "text": [
      "Epoch: [2]  [ 600/1216]  eta: 0:20:52  lr: 0.001000  loss: 0.3246 (0.3639)  loss_classifier: 0.1148 (0.1385)  loss_box_reg: 0.1309 (0.1518)  loss_objectness: 0.0369 (0.0531)  loss_rpn_box_reg: 0.0166 (0.0205)  time: 2.0319  data: 0.0096  max mem: 10596\n",
      "Epoch: [2]  [ 700/1216]  eta: 0:17:29  lr: 0.001000  loss: 0.3688 (0.3631)  loss_classifier: 0.1322 (0.1379)  loss_box_reg: 0.1468 (0.1512)  loss_objectness: 0.0430 (0.0535)  loss_rpn_box_reg: 0.0193 (0.0205)  time: 2.0335  data: 0.0096  max mem: 10596\n",
      "Epoch: [2]  [ 800/1216]  eta: 0:14:05  lr: 0.001000  loss: 0.3822 (0.3611)  loss_classifier: 0.1454 (0.1367)  loss_box_reg: 0.1503 (0.1501)  loss_objectness: 0.0510 (0.0539)  loss_rpn_box_reg: 0.0131 (0.0204)  time: 2.0329  data: 0.0097  max mem: 10596\n",
      "Epoch: [2]  [ 900/1216]  eta: 0:10:42  lr: 0.001000  loss: 0.2522 (0.3630)  loss_classifier: 0.0982 (0.1369)  loss_box_reg: 0.1136 (0.1515)  loss_objectness: 0.0373 (0.0541)  loss_rpn_box_reg: 0.0139 (0.0206)  time: 2.0320  data: 0.0099  max mem: 10596\n",
      "Epoch: [2]  [1000/1216]  eta: 0:07:19  lr: 0.001000  loss: 0.3009 (0.3618)  loss_classifier: 0.1146 (0.1365)  loss_box_reg: 0.1319 (0.1511)  loss_objectness: 0.0382 (0.0537)  loss_rpn_box_reg: 0.0138 (0.0204)  time: 2.0305  data: 0.0095  max mem: 10596\n",
      "Epoch: [2]  [1100/1216]  eta: 0:03:55  lr: 0.001000  loss: 0.3650 (0.3614)  loss_classifier: 0.1338 (0.1362)  loss_box_reg: 0.1469 (0.1517)  loss_objectness: 0.0433 (0.0530)  loss_rpn_box_reg: 0.0154 (0.0205)  time: 2.0326  data: 0.0094  max mem: 10596\n",
      "Epoch: [2]  [1200/1216]  eta: 0:00:32  lr: 0.001000  loss: 0.3297 (0.3620)  loss_classifier: 0.1089 (0.1362)  loss_box_reg: 0.1451 (0.1523)  loss_objectness: 0.0332 (0.0531)  loss_rpn_box_reg: 0.0117 (0.0204)  time: 2.0352  data: 0.0097  max mem: 10596\n",
      "Epoch: [2]  [1215/1216]  eta: 0:00:02  lr: 0.001000  loss: 0.3782 (0.3625)  loss_classifier: 0.1414 (0.1364)  loss_box_reg: 0.1949 (0.1526)  loss_objectness: 0.0370 (0.0531)  loss_rpn_box_reg: 0.0161 (0.0204)  time: 1.9707  data: 0.0095  max mem: 10596\n",
      "Epoch: [2] Total time: 0:41:10 (2.0320 s / it)\n",
      "creating index...\n",
      "index created!\n",
      "Test:  [  0/130]  eta: 0:03:43  model_time: 0.9730 (0.9730)  evaluator_time: 0.0155 (0.0155)  time: 1.7203  data: 0.3443  max mem: 10596\n",
      "Test:  [100/130]  eta: 0:00:29  model_time: 0.9029 (0.9026)  evaluator_time: 0.0129 (0.0466)  time: 0.9372  data: 0.0088  max mem: 10596\n",
      "Test:  [129/130]  eta: 0:00:00  model_time: 0.9042 (0.8968)  evaluator_time: 0.0147 (0.0450)  time: 0.9353  data: 0.0089  max mem: 10596\n",
      "Test: Total time: 0:02:05 (0.9688 s / it)\n",
      "Averaged stats: model_time: 0.9042 (0.8968)  evaluator_time: 0.0147 (0.0450)\n",
      "Accumulating evaluation results...\n",
      "DONE (t=0.55s).\n",
      "IoU metric: bbox\n",
      " Average Precision  (AP) @[ IoU=0.50:0.95 | area=   all | maxDets=100 ] = 0.107\n",
      " Average Precision  (AP) @[ IoU=0.50      | area=   all | maxDets=100 ] = 0.269\n",
      " Average Precision  (AP) @[ IoU=0.75      | area=   all | maxDets=100 ] = 0.068\n",
      " Average Precision  (AP) @[ IoU=0.50:0.95 | area= small | maxDets=100 ] = 0.050\n",
      " Average Precision  (AP) @[ IoU=0.50:0.95 | area=medium | maxDets=100 ] = 0.117\n",
      " Average Precision  (AP) @[ IoU=0.50:0.95 | area= large | maxDets=100 ] = 0.125\n",
      " Average Recall     (AR) @[ IoU=0.50:0.95 | area=   all | maxDets=  1 ] = 0.077\n",
      " Average Recall     (AR) @[ IoU=0.50:0.95 | area=   all | maxDets= 10 ] = 0.178\n",
      " Average Recall     (AR) @[ IoU=0.50:0.95 | area=   all | maxDets=100 ] = 0.240\n",
      " Average Recall     (AR) @[ IoU=0.50:0.95 | area= small | maxDets=100 ] = 0.097\n",
      " Average Recall     (AR) @[ IoU=0.50:0.95 | area=medium | maxDets=100 ] = 0.223\n",
      " Average Recall     (AR) @[ IoU=0.50:0.95 | area= large | maxDets=100 ] = 0.312\n",
      "SAVING PLOTS COMPLETE...\n",
      "SAVING PLOTS COMPLETE...\n",
      "SAVING PLOTS COMPLETE...\n",
      "SAVING PLOTS COMPLETE...\n",
      "SAVING PLOTS COMPLETE...\n",
      "SAVING PLOTS COMPLETE...\n",
      "\n",
      "BEST VALIDATION mAP: 0.10734449855578176\n",
      "\n",
      "SAVING BEST MODEL FOR EPOCH: 3\n",
      "\n",
      "Epoch: [3]  [   0/1216]  eta: 0:48:45  lr: 0.001000  loss: 0.1852 (0.1852)  loss_classifier: 0.0845 (0.0845)  loss_box_reg: 0.0471 (0.0471)  loss_objectness: 0.0480 (0.0480)  loss_rpn_box_reg: 0.0056 (0.0056)  time: 2.4058  data: 0.3529  max mem: 10596\n",
      "^C\n",
      "Traceback (most recent call last):\n",
      "  File \"/root/42028/A3/ObjectDetection-FasterRCNN/train.py\", line 532, in <module>\n",
      "    main(args)\n",
      "  File \"/root/42028/A3/ObjectDetection-FasterRCNN/train.py\", line 379, in main\n",
      "    batch_loss_rpn_list = train_one_epoch(\n",
      "  File \"/root/42028/A3/ObjectDetection-FasterRCNN/torch_utils/engine.py\", line 73, in train_one_epoch\n",
      "    optimizer.step()\n",
      "  File \"/usr/local/lib/python3.10/site-packages/torch/optim/lr_scheduler.py\", line 65, in wrapper\n",
      "    return wrapped(*args, **kwargs)\n",
      "  File \"/usr/local/lib/python3.10/site-packages/torch/optim/optimizer.py\", line 109, in wrapper\n",
      "    return func(*args, **kwargs)\n",
      "  File \"/usr/local/lib/python3.10/site-packages/torch/autograd/grad_mode.py\", line 27, in decorate_context\n",
      "    return func(*args, **kwargs)\n",
      "  File \"/usr/local/lib/python3.10/site-packages/torch/optim/sgd.py\", line 146, in step\n",
      "    sgd(params_with_grad,\n",
      "  File \"/usr/local/lib/python3.10/site-packages/torch/optim/sgd.py\", line 197, in sgd\n",
      "    func(params,\n",
      "  File \"/usr/local/lib/python3.10/site-packages/torch/optim/sgd.py\", line 236, in _single_tensor_sgd\n",
      "    d_p = d_p.add(buf, alpha=momentum)\n",
      "KeyboardInterrupt\n"
     ]
    }
   ],
   "source": [
    "# ENTER THE CODE BELOW\n",
    "!python train.py --config data_configs/custom_data.yaml --epochs 25  --model fasterrcnn_resnet50_fpn_v2 --project-name training  --batch-size 8  --no-mosaic"
   ]
  },
  {
   "cell_type": "code",
   "execution_count": null,
   "id": "8b4cd32a-ecc0-4a72-b7fe-442af0402820",
   "metadata": {},
   "outputs": [],
   "source": [
    "import matplotlib.pyplot as plt\n",
    "%matplotlib inline\n",
    "import glob as glob"
   ]
  },
  {
   "cell_type": "code",
   "execution_count": null,
   "id": "cc18271d-a9df-4a42-9856-4ddbe854f427",
   "metadata": {},
   "outputs": [],
   "source": [
    "results_dir_path = 'outputs/training/training'\n",
    "valid_images = glob.glob(f\"{results_dir_path}/*.jpg\")\n",
    "\n",
    "for i in range(2):\n",
    "    plt.figure(figsize=(10, 7))\n",
    "    image = plt.imread(valid_images[i])\n",
    "    plt.imshow(image)\n",
    "    plt.axis('off')\n",
    "    plt.show()"
   ]
  },
  {
   "cell_type": "code",
   "execution_count": null,
   "id": "8f35f829-a5dd-4f7c-9ef0-89f076c52025",
   "metadata": {},
   "outputs": [],
   "source": [
    "# WRITE YOUR CODE\n",
    "!python3 eval.py --weights 'outputs/training/training/best_model.pth' --config data_configs/custom_data.yaml --model fasterrcnn_resnet50_fpn_v2 --verbose\n"
   ]
  },
  {
   "cell_type": "code",
   "execution_count": null,
   "id": "79e4307b-b21a-4617-aa86-a2f00509b1d2",
   "metadata": {},
   "outputs": [],
   "source": [
    "# WRITE YOUR CODE\n",
    "!python inference.py --input 'data/images/valid/15.jpg' --weights 'outputs/training/training/best_model.pth'"
   ]
  },
  {
   "cell_type": "code",
   "execution_count": null,
   "id": "4694db6d-1192-4f38-b9a2-48bf96065049",
   "metadata": {},
   "outputs": [],
   "source": [
    "#!python inference_video.py --input data/inference_data/video_1.mp4 --weights 'outputs/training/training/best_model.pth'"
   ]
  },
  {
   "cell_type": "code",
   "execution_count": null,
   "id": "528e3016-2edc-4c3a-b647-94fa7dedc3ef",
   "metadata": {},
   "outputs": [],
   "source": [
    "import time, Image\n",
    "\n",
    "import cv2\n",
    "from livestreamer import Livestreamer\n",
    "\n",
    "# change to a stream that is actually online\n",
    "livestreamer = Livestreamer()\n",
    "plugin = livestreamer.resolve_url(\"http://twitch.tv/flosd\")\n",
    "streams = plugin.get_streams()\n",
    "stream = streams['mobile_High']\n",
    "\n",
    "# download enough data to make sure the first frame is there\n",
    "fd = stream.open()\n",
    "data = ''\n",
    "while len(data) < 3e5:\n",
    "    data += fd.read()\n",
    "    time.sleep(0.1)\n",
    "fd.close()\n",
    "\n",
    "fname = 'stream.bin'\n",
    "open(fname, 'wb').write(data)\n",
    "capture = cv2.VideoCapture(fname)\n",
    "imgdata = capture.read()[1]\n",
    "imgdata = imgdata[...,::-1]\n",
    "img = Image.fromarray(imgdata)\n",
    "img.save('frame.png')\n",
    "img.show()"
   ]
  },
  {
   "cell_type": "code",
   "execution_count": 3,
   "id": "6dead386-0576-4593-8073-124ce901c9d1",
   "metadata": {},
   "outputs": [
    {
     "name": "stdout",
     "output_type": "stream",
     "text": [
      "Building from model name arguments...\n",
      "Test instances: 1\n",
      "Image 1 done...\n",
      "--------------------------------------------------\n",
      "TEST PREDICTIONS COMPLETE\n",
      "Average FPS: 0.107\n",
      "CPU times: user 340 ms, sys: 181 ms, total: 521 ms\n",
      "Wall time: 16.3 s\n"
     ]
    }
   ],
   "source": [
    "%%time\n",
    "!python3 ObjectDetection-FasterRCNN-master/inference.py --input 'ObjectDetection-FasterRCNN-master/spag.jpg' --weights './best_model.pth'"
   ]
  },
  {
   "cell_type": "code",
   "execution_count": 4,
   "id": "d71924d2-4cee-46ed-97bd-c31cfc620c4c",
   "metadata": {},
   "outputs": [
    {
     "name": "stdout",
     "output_type": "stream",
     "text": [
      "Building from model name arguments...\n",
      "Test instances: 1\n",
      "Image 1 done...\n",
      "--------------------------------------------------\n",
      "TEST PREDICTIONS COMPLETE\n",
      "Average FPS: 0.115\n",
      "CPU times: user 304 ms, sys: 164 ms, total: 468 ms\n",
      "Wall time: 13.4 s\n"
     ]
    }
   ],
   "source": [
    "%%time\n",
    "!python3 ObjectDetection-FasterRCNN-master/inference.py --input 'ObjectDetection-FasterRCNN-master/spag.jpg' --weights './best_model.pth'"
   ]
  },
  {
   "cell_type": "code",
   "execution_count": 1,
   "id": "b6667400-2a53-4984-8755-7bba9ae5713b",
   "metadata": {},
   "outputs": [
    {
     "name": "stdout",
     "output_type": "stream",
     "text": [
      "Building from model name arguments...\n",
      "Test instances: 1\n",
      "Image 1 done...\n",
      "--------------------------------------------------\n",
      "TEST PREDICTIONS COMPLETE\n",
      "Average FPS: 1.126\n",
      "CPU times: user 197 ms, sys: 108 ms, total: 305 ms\n",
      "Wall time: 14.3 s\n"
     ]
    }
   ],
   "source": [
    "%%time\n",
    "!python3 ObjectDetection-FasterRCNN-master/inference.py --input 'ObjectDetection-FasterRCNN-master/spag.jpg' --weights './best_model.pth'"
   ]
  },
  {
   "cell_type": "code",
   "execution_count": 2,
   "id": "e4d8761d-ac1c-4e92-a370-ffd887483d8e",
   "metadata": {},
   "outputs": [
    {
     "name": "stdout",
     "output_type": "stream",
     "text": [
      "Building from model name arguments...\n",
      "Test instances: 1\n",
      "Image 1 done...\n",
      "--------------------------------------------------\n",
      "TEST PREDICTIONS COMPLETE\n",
      "Average FPS: 2.483\n",
      "CPU times: user 123 ms, sys: 53.5 ms, total: 177 ms\n",
      "Wall time: 8.18 s\n"
     ]
    }
   ],
   "source": [
    "%%time\n",
    "!python3 ObjectDetection-FasterRCNN-master/inference.py --input 'ObjectDetection-FasterRCNN-master/spag.jpg' --weights './best_model.pth'"
   ]
  },
  {
   "cell_type": "code",
   "execution_count": 3,
   "id": "7db865a2-6615-4f5a-97c6-68510539db29",
   "metadata": {},
   "outputs": [
    {
     "name": "stdout",
     "output_type": "stream",
     "text": [
      "Building from model name arguments...\n",
      "Test instances: 1\n",
      "Image 1 done...\n",
      "--------------------------------------------------\n",
      "TEST PREDICTIONS COMPLETE\n",
      "Average FPS: 2.548\n",
      "CPU times: user 150 ms, sys: 24.1 ms, total: 174 ms\n",
      "Wall time: 7.58 s\n"
     ]
    }
   ],
   "source": [
    "%%time\n",
    "!python3 ObjectDetection-FasterRCNN-master/inference.py --input 'ObjectDetection-FasterRCNN-master/spag.jpg' --weights './best_model.pth'"
   ]
  },
  {
   "cell_type": "code",
   "execution_count": 4,
   "id": "729c82e6-8097-499a-9537-683add2cac00",
   "metadata": {},
   "outputs": [
    {
     "name": "stdout",
     "output_type": "stream",
     "text": [
      "Building from model name arguments...\n",
      "Test instances: 5\n",
      "Image 1 done...\n",
      "--------------------------------------------------\n",
      "Image 2 done...\n",
      "--------------------------------------------------\n",
      "Image 3 done...\n",
      "--------------------------------------------------\n",
      "Image 4 done...\n",
      "--------------------------------------------------\n",
      "Image 5 done...\n",
      "--------------------------------------------------\n",
      "TEST PREDICTIONS COMPLETE\n",
      "Average FPS: 3.855\n",
      "CPU times: user 129 ms, sys: 70.8 ms, total: 200 ms\n",
      "Wall time: 9.02 s\n"
     ]
    }
   ],
   "source": [
    "%%time\n",
    "!python3 ObjectDetection-FasterRCNN-master/inference.py --input 'ObjectDetection-FasterRCNN-master/' --weights './best_model.pth'"
   ]
  }
 ],
 "metadata": {
  "availableInstances": [
   {
    "_defaultOrder": 0,
    "_isFastLaunch": true,
    "category": "General purpose",
    "gpuNum": 0,
    "hideHardwareSpecs": false,
    "memoryGiB": 4,
    "name": "ml.t3.medium",
    "vcpuNum": 2
   },
   {
    "_defaultOrder": 1,
    "_isFastLaunch": false,
    "category": "General purpose",
    "gpuNum": 0,
    "hideHardwareSpecs": false,
    "memoryGiB": 8,
    "name": "ml.t3.large",
    "vcpuNum": 2
   },
   {
    "_defaultOrder": 2,
    "_isFastLaunch": false,
    "category": "General purpose",
    "gpuNum": 0,
    "hideHardwareSpecs": false,
    "memoryGiB": 16,
    "name": "ml.t3.xlarge",
    "vcpuNum": 4
   },
   {
    "_defaultOrder": 3,
    "_isFastLaunch": false,
    "category": "General purpose",
    "gpuNum": 0,
    "hideHardwareSpecs": false,
    "memoryGiB": 32,
    "name": "ml.t3.2xlarge",
    "vcpuNum": 8
   },
   {
    "_defaultOrder": 4,
    "_isFastLaunch": true,
    "category": "General purpose",
    "gpuNum": 0,
    "hideHardwareSpecs": false,
    "memoryGiB": 8,
    "name": "ml.m5.large",
    "vcpuNum": 2
   },
   {
    "_defaultOrder": 5,
    "_isFastLaunch": false,
    "category": "General purpose",
    "gpuNum": 0,
    "hideHardwareSpecs": false,
    "memoryGiB": 16,
    "name": "ml.m5.xlarge",
    "vcpuNum": 4
   },
   {
    "_defaultOrder": 6,
    "_isFastLaunch": false,
    "category": "General purpose",
    "gpuNum": 0,
    "hideHardwareSpecs": false,
    "memoryGiB": 32,
    "name": "ml.m5.2xlarge",
    "vcpuNum": 8
   },
   {
    "_defaultOrder": 7,
    "_isFastLaunch": false,
    "category": "General purpose",
    "gpuNum": 0,
    "hideHardwareSpecs": false,
    "memoryGiB": 64,
    "name": "ml.m5.4xlarge",
    "vcpuNum": 16
   },
   {
    "_defaultOrder": 8,
    "_isFastLaunch": false,
    "category": "General purpose",
    "gpuNum": 0,
    "hideHardwareSpecs": false,
    "memoryGiB": 128,
    "name": "ml.m5.8xlarge",
    "vcpuNum": 32
   },
   {
    "_defaultOrder": 9,
    "_isFastLaunch": false,
    "category": "General purpose",
    "gpuNum": 0,
    "hideHardwareSpecs": false,
    "memoryGiB": 192,
    "name": "ml.m5.12xlarge",
    "vcpuNum": 48
   },
   {
    "_defaultOrder": 10,
    "_isFastLaunch": false,
    "category": "General purpose",
    "gpuNum": 0,
    "hideHardwareSpecs": false,
    "memoryGiB": 256,
    "name": "ml.m5.16xlarge",
    "vcpuNum": 64
   },
   {
    "_defaultOrder": 11,
    "_isFastLaunch": false,
    "category": "General purpose",
    "gpuNum": 0,
    "hideHardwareSpecs": false,
    "memoryGiB": 384,
    "name": "ml.m5.24xlarge",
    "vcpuNum": 96
   },
   {
    "_defaultOrder": 12,
    "_isFastLaunch": false,
    "category": "General purpose",
    "gpuNum": 0,
    "hideHardwareSpecs": false,
    "memoryGiB": 8,
    "name": "ml.m5d.large",
    "vcpuNum": 2
   },
   {
    "_defaultOrder": 13,
    "_isFastLaunch": false,
    "category": "General purpose",
    "gpuNum": 0,
    "hideHardwareSpecs": false,
    "memoryGiB": 16,
    "name": "ml.m5d.xlarge",
    "vcpuNum": 4
   },
   {
    "_defaultOrder": 14,
    "_isFastLaunch": false,
    "category": "General purpose",
    "gpuNum": 0,
    "hideHardwareSpecs": false,
    "memoryGiB": 32,
    "name": "ml.m5d.2xlarge",
    "vcpuNum": 8
   },
   {
    "_defaultOrder": 15,
    "_isFastLaunch": false,
    "category": "General purpose",
    "gpuNum": 0,
    "hideHardwareSpecs": false,
    "memoryGiB": 64,
    "name": "ml.m5d.4xlarge",
    "vcpuNum": 16
   },
   {
    "_defaultOrder": 16,
    "_isFastLaunch": false,
    "category": "General purpose",
    "gpuNum": 0,
    "hideHardwareSpecs": false,
    "memoryGiB": 128,
    "name": "ml.m5d.8xlarge",
    "vcpuNum": 32
   },
   {
    "_defaultOrder": 17,
    "_isFastLaunch": false,
    "category": "General purpose",
    "gpuNum": 0,
    "hideHardwareSpecs": false,
    "memoryGiB": 192,
    "name": "ml.m5d.12xlarge",
    "vcpuNum": 48
   },
   {
    "_defaultOrder": 18,
    "_isFastLaunch": false,
    "category": "General purpose",
    "gpuNum": 0,
    "hideHardwareSpecs": false,
    "memoryGiB": 256,
    "name": "ml.m5d.16xlarge",
    "vcpuNum": 64
   },
   {
    "_defaultOrder": 19,
    "_isFastLaunch": false,
    "category": "General purpose",
    "gpuNum": 0,
    "hideHardwareSpecs": false,
    "memoryGiB": 384,
    "name": "ml.m5d.24xlarge",
    "vcpuNum": 96
   },
   {
    "_defaultOrder": 20,
    "_isFastLaunch": false,
    "category": "General purpose",
    "gpuNum": 0,
    "hideHardwareSpecs": true,
    "memoryGiB": 0,
    "name": "ml.geospatial.interactive",
    "supportedImageNames": [
     "sagemaker-geospatial-v1-0"
    ],
    "vcpuNum": 0
   },
   {
    "_defaultOrder": 21,
    "_isFastLaunch": true,
    "category": "Compute optimized",
    "gpuNum": 0,
    "hideHardwareSpecs": false,
    "memoryGiB": 4,
    "name": "ml.c5.large",
    "vcpuNum": 2
   },
   {
    "_defaultOrder": 22,
    "_isFastLaunch": false,
    "category": "Compute optimized",
    "gpuNum": 0,
    "hideHardwareSpecs": false,
    "memoryGiB": 8,
    "name": "ml.c5.xlarge",
    "vcpuNum": 4
   },
   {
    "_defaultOrder": 23,
    "_isFastLaunch": false,
    "category": "Compute optimized",
    "gpuNum": 0,
    "hideHardwareSpecs": false,
    "memoryGiB": 16,
    "name": "ml.c5.2xlarge",
    "vcpuNum": 8
   },
   {
    "_defaultOrder": 24,
    "_isFastLaunch": false,
    "category": "Compute optimized",
    "gpuNum": 0,
    "hideHardwareSpecs": false,
    "memoryGiB": 32,
    "name": "ml.c5.4xlarge",
    "vcpuNum": 16
   },
   {
    "_defaultOrder": 25,
    "_isFastLaunch": false,
    "category": "Compute optimized",
    "gpuNum": 0,
    "hideHardwareSpecs": false,
    "memoryGiB": 72,
    "name": "ml.c5.9xlarge",
    "vcpuNum": 36
   },
   {
    "_defaultOrder": 26,
    "_isFastLaunch": false,
    "category": "Compute optimized",
    "gpuNum": 0,
    "hideHardwareSpecs": false,
    "memoryGiB": 96,
    "name": "ml.c5.12xlarge",
    "vcpuNum": 48
   },
   {
    "_defaultOrder": 27,
    "_isFastLaunch": false,
    "category": "Compute optimized",
    "gpuNum": 0,
    "hideHardwareSpecs": false,
    "memoryGiB": 144,
    "name": "ml.c5.18xlarge",
    "vcpuNum": 72
   },
   {
    "_defaultOrder": 28,
    "_isFastLaunch": false,
    "category": "Compute optimized",
    "gpuNum": 0,
    "hideHardwareSpecs": false,
    "memoryGiB": 192,
    "name": "ml.c5.24xlarge",
    "vcpuNum": 96
   },
   {
    "_defaultOrder": 29,
    "_isFastLaunch": true,
    "category": "Accelerated computing",
    "gpuNum": 1,
    "hideHardwareSpecs": false,
    "memoryGiB": 16,
    "name": "ml.g4dn.xlarge",
    "vcpuNum": 4
   },
   {
    "_defaultOrder": 30,
    "_isFastLaunch": false,
    "category": "Accelerated computing",
    "gpuNum": 1,
    "hideHardwareSpecs": false,
    "memoryGiB": 32,
    "name": "ml.g4dn.2xlarge",
    "vcpuNum": 8
   },
   {
    "_defaultOrder": 31,
    "_isFastLaunch": false,
    "category": "Accelerated computing",
    "gpuNum": 1,
    "hideHardwareSpecs": false,
    "memoryGiB": 64,
    "name": "ml.g4dn.4xlarge",
    "vcpuNum": 16
   },
   {
    "_defaultOrder": 32,
    "_isFastLaunch": false,
    "category": "Accelerated computing",
    "gpuNum": 1,
    "hideHardwareSpecs": false,
    "memoryGiB": 128,
    "name": "ml.g4dn.8xlarge",
    "vcpuNum": 32
   },
   {
    "_defaultOrder": 33,
    "_isFastLaunch": false,
    "category": "Accelerated computing",
    "gpuNum": 4,
    "hideHardwareSpecs": false,
    "memoryGiB": 192,
    "name": "ml.g4dn.12xlarge",
    "vcpuNum": 48
   },
   {
    "_defaultOrder": 34,
    "_isFastLaunch": false,
    "category": "Accelerated computing",
    "gpuNum": 1,
    "hideHardwareSpecs": false,
    "memoryGiB": 256,
    "name": "ml.g4dn.16xlarge",
    "vcpuNum": 64
   },
   {
    "_defaultOrder": 35,
    "_isFastLaunch": false,
    "category": "Accelerated computing",
    "gpuNum": 1,
    "hideHardwareSpecs": false,
    "memoryGiB": 61,
    "name": "ml.p3.2xlarge",
    "vcpuNum": 8
   },
   {
    "_defaultOrder": 36,
    "_isFastLaunch": false,
    "category": "Accelerated computing",
    "gpuNum": 4,
    "hideHardwareSpecs": false,
    "memoryGiB": 244,
    "name": "ml.p3.8xlarge",
    "vcpuNum": 32
   },
   {
    "_defaultOrder": 37,
    "_isFastLaunch": false,
    "category": "Accelerated computing",
    "gpuNum": 8,
    "hideHardwareSpecs": false,
    "memoryGiB": 488,
    "name": "ml.p3.16xlarge",
    "vcpuNum": 64
   },
   {
    "_defaultOrder": 38,
    "_isFastLaunch": false,
    "category": "Accelerated computing",
    "gpuNum": 8,
    "hideHardwareSpecs": false,
    "memoryGiB": 768,
    "name": "ml.p3dn.24xlarge",
    "vcpuNum": 96
   },
   {
    "_defaultOrder": 39,
    "_isFastLaunch": false,
    "category": "Memory Optimized",
    "gpuNum": 0,
    "hideHardwareSpecs": false,
    "memoryGiB": 16,
    "name": "ml.r5.large",
    "vcpuNum": 2
   },
   {
    "_defaultOrder": 40,
    "_isFastLaunch": false,
    "category": "Memory Optimized",
    "gpuNum": 0,
    "hideHardwareSpecs": false,
    "memoryGiB": 32,
    "name": "ml.r5.xlarge",
    "vcpuNum": 4
   },
   {
    "_defaultOrder": 41,
    "_isFastLaunch": false,
    "category": "Memory Optimized",
    "gpuNum": 0,
    "hideHardwareSpecs": false,
    "memoryGiB": 64,
    "name": "ml.r5.2xlarge",
    "vcpuNum": 8
   },
   {
    "_defaultOrder": 42,
    "_isFastLaunch": false,
    "category": "Memory Optimized",
    "gpuNum": 0,
    "hideHardwareSpecs": false,
    "memoryGiB": 128,
    "name": "ml.r5.4xlarge",
    "vcpuNum": 16
   },
   {
    "_defaultOrder": 43,
    "_isFastLaunch": false,
    "category": "Memory Optimized",
    "gpuNum": 0,
    "hideHardwareSpecs": false,
    "memoryGiB": 256,
    "name": "ml.r5.8xlarge",
    "vcpuNum": 32
   },
   {
    "_defaultOrder": 44,
    "_isFastLaunch": false,
    "category": "Memory Optimized",
    "gpuNum": 0,
    "hideHardwareSpecs": false,
    "memoryGiB": 384,
    "name": "ml.r5.12xlarge",
    "vcpuNum": 48
   },
   {
    "_defaultOrder": 45,
    "_isFastLaunch": false,
    "category": "Memory Optimized",
    "gpuNum": 0,
    "hideHardwareSpecs": false,
    "memoryGiB": 512,
    "name": "ml.r5.16xlarge",
    "vcpuNum": 64
   },
   {
    "_defaultOrder": 46,
    "_isFastLaunch": false,
    "category": "Memory Optimized",
    "gpuNum": 0,
    "hideHardwareSpecs": false,
    "memoryGiB": 768,
    "name": "ml.r5.24xlarge",
    "vcpuNum": 96
   },
   {
    "_defaultOrder": 47,
    "_isFastLaunch": false,
    "category": "Accelerated computing",
    "gpuNum": 1,
    "hideHardwareSpecs": false,
    "memoryGiB": 16,
    "name": "ml.g5.xlarge",
    "vcpuNum": 4
   },
   {
    "_defaultOrder": 48,
    "_isFastLaunch": false,
    "category": "Accelerated computing",
    "gpuNum": 1,
    "hideHardwareSpecs": false,
    "memoryGiB": 32,
    "name": "ml.g5.2xlarge",
    "vcpuNum": 8
   },
   {
    "_defaultOrder": 49,
    "_isFastLaunch": false,
    "category": "Accelerated computing",
    "gpuNum": 1,
    "hideHardwareSpecs": false,
    "memoryGiB": 64,
    "name": "ml.g5.4xlarge",
    "vcpuNum": 16
   },
   {
    "_defaultOrder": 50,
    "_isFastLaunch": false,
    "category": "Accelerated computing",
    "gpuNum": 1,
    "hideHardwareSpecs": false,
    "memoryGiB": 128,
    "name": "ml.g5.8xlarge",
    "vcpuNum": 32
   },
   {
    "_defaultOrder": 51,
    "_isFastLaunch": false,
    "category": "Accelerated computing",
    "gpuNum": 1,
    "hideHardwareSpecs": false,
    "memoryGiB": 256,
    "name": "ml.g5.16xlarge",
    "vcpuNum": 64
   },
   {
    "_defaultOrder": 52,
    "_isFastLaunch": false,
    "category": "Accelerated computing",
    "gpuNum": 4,
    "hideHardwareSpecs": false,
    "memoryGiB": 192,
    "name": "ml.g5.12xlarge",
    "vcpuNum": 48
   },
   {
    "_defaultOrder": 53,
    "_isFastLaunch": false,
    "category": "Accelerated computing",
    "gpuNum": 4,
    "hideHardwareSpecs": false,
    "memoryGiB": 384,
    "name": "ml.g5.24xlarge",
    "vcpuNum": 96
   },
   {
    "_defaultOrder": 54,
    "_isFastLaunch": false,
    "category": "Accelerated computing",
    "gpuNum": 8,
    "hideHardwareSpecs": false,
    "memoryGiB": 768,
    "name": "ml.g5.48xlarge",
    "vcpuNum": 192
   },
   {
    "_defaultOrder": 55,
    "_isFastLaunch": false,
    "category": "Accelerated computing",
    "gpuNum": 8,
    "hideHardwareSpecs": false,
    "memoryGiB": 1152,
    "name": "ml.p4d.24xlarge",
    "vcpuNum": 96
   },
   {
    "_defaultOrder": 56,
    "_isFastLaunch": false,
    "category": "Accelerated computing",
    "gpuNum": 8,
    "hideHardwareSpecs": false,
    "memoryGiB": 1152,
    "name": "ml.p4de.24xlarge",
    "vcpuNum": 96
   },
   {
    "_defaultOrder": 57,
    "_isFastLaunch": false,
    "category": "Accelerated computing",
    "gpuNum": 0,
    "hideHardwareSpecs": false,
    "memoryGiB": 32,
    "name": "ml.trn1.2xlarge",
    "vcpuNum": 8
   },
   {
    "_defaultOrder": 58,
    "_isFastLaunch": false,
    "category": "Accelerated computing",
    "gpuNum": 0,
    "hideHardwareSpecs": false,
    "memoryGiB": 512,
    "name": "ml.trn1.32xlarge",
    "vcpuNum": 128
   },
   {
    "_defaultOrder": 59,
    "_isFastLaunch": false,
    "category": "Accelerated computing",
    "gpuNum": 0,
    "hideHardwareSpecs": false,
    "memoryGiB": 512,
    "name": "ml.trn1n.32xlarge",
    "vcpuNum": 128
   }
  ],
  "kernelspec": {
   "display_name": "Python 3 (ipykernel)",
   "language": "python",
   "name": "python3"
  },
  "language_info": {
   "codemirror_mode": {
    "name": "ipython",
    "version": 3
   },
   "file_extension": ".py",
   "mimetype": "text/x-python",
   "name": "python",
   "nbconvert_exporter": "python",
   "pygments_lexer": "ipython3",
   "version": "3.8.10"
  }
 },
 "nbformat": 4,
 "nbformat_minor": 5
}
