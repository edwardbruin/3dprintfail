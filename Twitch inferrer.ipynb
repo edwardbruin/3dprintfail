{
 "cells": [
  {
   "cell_type": "code",
   "execution_count": 9,
   "id": "8320ecbb-4e41-4626-b957-aa3d34e7e78a",
   "metadata": {},
   "outputs": [
    {
     "name": "stdout",
     "output_type": "stream",
     "text": [
      "Defaulting to user installation because normal site-packages is not writeable\n",
      "Collecting streamlink\n",
      "  Downloading streamlink-6.7.3-py3-none-any.whl (525 kB)\n",
      "\u001b[2K     \u001b[90m━━━━━━━━━━━━━━━━━━━━━━━━━━━━━━━━━━━━━━━\u001b[0m \u001b[32m525.8/525.8 KB\u001b[0m \u001b[31m5.1 MB/s\u001b[0m eta \u001b[36m0:00:00\u001b[0ma \u001b[36m0:00:01\u001b[0m\n",
      "\u001b[?25hRequirement already satisfied: requests<3,>=2.26.0 in /home/user/.local/lib/python3.10/site-packages (from streamlink) (2.31.0)\n",
      "Collecting isodate\n",
      "  Downloading isodate-0.6.1-py2.py3-none-any.whl (41 kB)\n",
      "\u001b[2K     \u001b[90m━━━━━━━━━━━━━━━━━━━━━━━━━━━━━━━━━━━━━━━━\u001b[0m \u001b[32m41.7/41.7 KB\u001b[0m \u001b[31m4.2 MB/s\u001b[0m eta \u001b[36m0:00:00\u001b[0m\n",
      "\u001b[?25hRequirement already satisfied: websocket-client<2,>=1.2.1 in /home/user/.local/lib/python3.10/site-packages (from streamlink) (1.6.3)\n",
      "Requirement already satisfied: typing-extensions>=4.0.0 in /home/user/.local/lib/python3.10/site-packages (from streamlink) (4.11.0)\n",
      "Requirement already satisfied: urllib3<3,>=1.26.0 in /home/user/.local/lib/python3.10/site-packages (from streamlink) (2.0.5)\n",
      "Requirement already satisfied: certifi in /home/user/.local/lib/python3.10/site-packages (from streamlink) (2023.7.22)\n",
      "Collecting PySocks!=1.5.7,>=1.5.6\n",
      "  Downloading PySocks-1.7.1-py3-none-any.whl (16 kB)\n",
      "Requirement already satisfied: lxml<6,>=4.6.4 in /home/user/.local/lib/python3.10/site-packages (from streamlink) (5.2.1)\n",
      "Collecting pycryptodome<4,>=3.4.3\n",
      "  Downloading pycryptodome-3.20.0-cp35-abi3-manylinux_2_17_x86_64.manylinux2014_x86_64.whl (2.1 MB)\n",
      "\u001b[2K     \u001b[90m━━━━━━━━━━━━━━━━━━━━━━━━━━━━━━━━━━━━━━━━\u001b[0m \u001b[32m2.1/2.1 MB\u001b[0m \u001b[31m6.0 MB/s\u001b[0m eta \u001b[36m0:00:00\u001b[0m00:01\u001b[0m00:01\u001b[0m\n",
      "\u001b[?25hCollecting pycountry\n",
      "  Downloading pycountry-23.12.11-py3-none-any.whl (6.2 MB)\n",
      "\u001b[2K     \u001b[90m━━━━━━━━━━━━━━━━━━━━━━━━━━━━━━━━━━━━━━━━\u001b[0m \u001b[32m6.2/6.2 MB\u001b[0m \u001b[31m5.1 MB/s\u001b[0m eta \u001b[36m0:00:00\u001b[0m00:01\u001b[0m00:01\u001b[0m\n",
      "\u001b[?25hCollecting trio-websocket<1,>=0.9.0\n",
      "  Downloading trio_websocket-0.11.1-py3-none-any.whl (17 kB)\n",
      "Collecting trio<1,>=0.22.0\n",
      "  Downloading trio-0.25.0-py3-none-any.whl (467 kB)\n",
      "\u001b[2K     \u001b[90m━━━━━━━━━━━━━━━━━━━━━━━━━━━━━━━━━━━━━━━\u001b[0m \u001b[32m467.2/467.2 KB\u001b[0m \u001b[31m5.1 MB/s\u001b[0m eta \u001b[36m0:00:00\u001b[0ma \u001b[36m0:00:01\u001b[0m\n",
      "\u001b[?25hRequirement already satisfied: exceptiongroup in /home/user/.local/lib/python3.10/site-packages (from streamlink) (1.1.3)\n",
      "Requirement already satisfied: idna<4,>=2.5 in /home/user/.local/lib/python3.10/site-packages (from requests<3,>=2.26.0->streamlink) (3.4)\n",
      "Requirement already satisfied: charset-normalizer<4,>=2 in /home/user/.local/lib/python3.10/site-packages (from requests<3,>=2.26.0->streamlink) (3.3.0)\n",
      "Collecting outcome\n",
      "  Downloading outcome-1.3.0.post0-py2.py3-none-any.whl (10 kB)\n",
      "Requirement already satisfied: sniffio>=1.3.0 in /home/user/.local/lib/python3.10/site-packages (from trio<1,>=0.22.0->streamlink) (1.3.0)\n",
      "Collecting sortedcontainers\n",
      "  Downloading sortedcontainers-2.4.0-py2.py3-none-any.whl (29 kB)\n",
      "Collecting attrs>=23.2.0\n",
      "  Downloading attrs-23.2.0-py3-none-any.whl (60 kB)\n",
      "\u001b[2K     \u001b[90m━━━━━━━━━━━━━━━━━━━━━━━━━━━━━━━━━━━━━━━━\u001b[0m \u001b[32m60.8/60.8 KB\u001b[0m \u001b[31m4.5 MB/s\u001b[0m eta \u001b[36m0:00:00\u001b[0m\n",
      "\u001b[?25hCollecting wsproto>=0.14\n",
      "  Downloading wsproto-1.2.0-py3-none-any.whl (24 kB)\n",
      "Requirement already satisfied: six in /usr/lib/python3/dist-packages (from isodate->streamlink) (1.16.0)\n",
      "Collecting h11<1,>=0.9.0\n",
      "  Downloading h11-0.14.0-py3-none-any.whl (58 kB)\n",
      "\u001b[2K     \u001b[90m━━━━━━━━━━━━━━━━━━━━━━━━━━━━━━━━━━━━━━━━\u001b[0m \u001b[32m58.3/58.3 KB\u001b[0m \u001b[31m4.5 MB/s\u001b[0m eta \u001b[36m0:00:00\u001b[0m\n",
      "\u001b[?25hInstalling collected packages: sortedcontainers, PySocks, pycryptodome, pycountry, isodate, h11, attrs, wsproto, outcome, trio, trio-websocket, streamlink\n",
      "  Attempting uninstall: attrs\n",
      "    Found existing installation: attrs 23.1.0\n",
      "    Uninstalling attrs-23.1.0:\n",
      "      Successfully uninstalled attrs-23.1.0\n",
      "Successfully installed PySocks-1.7.1 attrs-23.2.0 h11-0.14.0 isodate-0.6.1 outcome-1.3.0.post0 pycountry-23.12.11 pycryptodome-3.20.0 sortedcontainers-2.4.0 streamlink-6.7.3 trio-0.25.0 trio-websocket-0.11.1 wsproto-1.2.0\n",
      "Note: you may need to restart the kernel to use updated packages.\n"
     ]
    }
   ],
   "source": [
    "#%pip install streamlink\n",
    "#%pip install ffmpeg\n",
    "#to avoid:\n",
    "#ImportError: cannot import name 'storage' from 'google.cloud' (unknown location)\n",
    "#%pip install --upgrade google-cloud-storage"
   ]
  },
  {
   "cell_type": "code",
   "execution_count": 1,
   "id": "e6dd3a98-8a8f-4ba5-877a-206b174285bb",
   "metadata": {},
   "outputs": [
    {
     "data": {
      "text/plain": [
       "<google.oauth2.service_account.Credentials at 0x7f9d81f42170>"
      ]
     },
     "execution_count": 1,
     "metadata": {},
     "output_type": "execute_result"
    }
   ],
   "source": [
    "import os\n",
    "from google.oauth2 import service_account\n",
    "\n",
    "# Path to your service account JSON file\n",
    "service_account_file = 'master-magnet-414308-23a8bbb0c34f.json'\n",
    "\n",
    "# Load credentials from the JSON file\n",
    "credentials = service_account.Credentials.from_service_account_file(service_account_file)\n",
    "\n",
    "# Now you can use the credentials to authenticate with GCP services\n",
    "# For example, using the BigQuery client library:\n",
    "#from google.cloud import bigquery\n",
    "\n",
    "#client = bigquery.Client(credentials=credentials, project='your-project-id')\n",
    "# Use the client to run BigQuery queries or other GCP operations\n",
    "credentials"
   ]
  },
  {
   "cell_type": "code",
   "execution_count": null,
   "id": "c7779007-7283-4c44-9558-011330167aeb",
   "metadata": {},
   "outputs": [],
   "source": [
    "from google.cloud import storage\n",
    "\n",
    "# Path to your service account JSON file\n",
    "service_account_file = 'master-magnet-414308-23a8bbb0c34f.json'\n",
    "\n",
    "# Initialize the storage client with service account credentials\n",
    "storage_client = storage.Client.from_service_account_json(service_account_file)"
   ]
  },
  {
   "cell_type": "code",
   "execution_count": 6,
   "id": "6df2ef70-1eed-4d3c-9ed5-c91cba0b0b55",
   "metadata": {},
   "outputs": [],
   "source": [
    "from google.cloud import storage\n",
    "\n",
    "service_account_file = 'master-magnet-414308-23a8bbb0c34f.json'\n",
    "storage_client = storage.Client.from_service_account_json(service_account_file)\n",
    "\n",
    "def upload_to_bucket(blob_name, content, bucket_name):\n",
    "    bucket = storage_client.bucket(bucket_name)\n",
    "    blob = bucket.blob(blob_name)\n",
    "    blob.upload_from_filename(content)\n",
    "\n",
    "#upload_to_bucket('link.txt', 'https://www.twitch.tv/aa', 'dl_cnn_a3_3dprintfail')"
   ]
  },
  {
   "cell_type": "code",
   "execution_count": 7,
   "id": "02063445-c9ed-44de-9f19-1c0a84dc8446",
   "metadata": {},
   "outputs": [],
   "source": [
    "def upload_to_bucket(blob_name, content, bucket_name):\n",
    "    bucket = storage_client.bucket(bucket_name)\n",
    "    blob = bucket.blob(blob_name)\n",
    "    blob.upload_from_filename(content)\n",
    "upload_to_bucket('infer_image.jpg', 'infer_image.jpg', 'dl_cnn_a3_3dprintfail')"
   ]
  },
  {
   "cell_type": "markdown",
   "id": "9f22a91a-dfb1-4f9b-b3a0-4edc626324b2",
   "metadata": {},
   "source": [
    "# ready"
   ]
  },
  {
   "cell_type": "code",
   "execution_count": 12,
   "id": "33419535-7d49-4a60-bd89-d3cfe7512e1e",
   "metadata": {},
   "outputs": [
    {
     "data": {
      "text/plain": [
       "'https://www.twitch.tv/skmojotv'"
      ]
     },
     "execution_count": 12,
     "metadata": {},
     "output_type": "execute_result"
    }
   ],
   "source": [
    "import requests\n",
    "from random import choice\n",
    "\n",
    "def fetch_content_from_gcs(link):\n",
    "    alp = list(map(chr, range(97, 123)))\n",
    "    link = link + \"?\"+choice(alp)+choice(alp)+'='+choice(alp)+choice(alp)\n",
    "    try:\n",
    "        response = requests.get(link)\n",
    "        if response.status_code == 200:\n",
    "            return response.text\n",
    "        else:\n",
    "            return f\"Error fetching content. Status code: {response.status_code}\"\n",
    "    except requests.RequestException as e:\n",
    "        return f\"Error: {e}\"\n",
    "\n",
    "gcs_link = \"https://storage.googleapis.com/dl_cnn_a3_3dprintfail/link.txt\"\n",
    "content = fetch_content_from_gcs(gcs_link)\n",
    "#gcs_link\n",
    "content"
   ]
  },
  {
   "cell_type": "code",
   "execution_count": 18,
   "id": "9f6ae14c-6571-4f48-81c6-db2e653480b8",
   "metadata": {},
   "outputs": [
    {
     "name": "stdout",
     "output_type": "stream",
     "text": [
      "dict_keys([])\n",
      "no\n"
     ]
    }
   ],
   "source": [
    "import streamlink\n",
    "import cv2\n",
    "from matplotlib import pyplot as plt\n",
    "import requests\n",
    "\n",
    "def fetch_content_from_gcs(link):\n",
    "    try:\n",
    "        response = requests.get(link)\n",
    "        if response.status_code == 200:\n",
    "            return response.text\n",
    "        else:\n",
    "            return f\"Error fetching content. Status code: {response.status_code}\"\n",
    "    except requests.RequestException as e:\n",
    "        return f\"Error: {e}\"\n",
    "\n",
    "gcs_link = \"https://storage.googleapis.com/dl_cnn_a3_3dprintfail/link.txt\"\n",
    "content = fetch_content_from_gcs(gcs_link)\n",
    "content\n",
    "streams = streamlink.streams(content)\n",
    "print(streams.keys())\n",
    "if \"best\" in streams.keys():\n",
    "    stream_url = streams[\"best\"].url\n",
    "    streams.keys()\n",
    "else:\n",
    "    print('no')\n",
    "    #continue"
   ]
  },
  {
   "cell_type": "code",
   "execution_count": null,
   "id": "f7159a7a-b041-46dd-b6d4-04a5bf79f8f6",
   "metadata": {},
   "outputs": [],
   "source": [
    "vcap = cv2.VideoCapture(stream_url)\n",
    "image = vcap.read()[1]\n",
    "cv2.imwrite('output_image.jpg', image)\n",
    "\n",
    "plt.imshow(cv2.cvtColor(image, cv2.COLOR_BGR2RGB))\n",
    "plt.show()"
   ]
  },
  {
   "cell_type": "code",
   "execution_count": null,
   "id": "1554b499-b818-45b1-a2fb-013e5bdfe0dc",
   "metadata": {},
   "outputs": [],
   "source": [
    "import os\n",
    "import subprocess\n",
    "\n",
    "vcap = cv2.VideoCapture(stream_url)\n",
    "image = vcap.read()[1]\n",
    "cv2.imwrite('output_image.jpg', image)\n",
    "\n",
    "subprocess.run(['python3', 'ObjectDetection-FasterRCNN-master/inference.py','--input','./output_image.jpg','--weights','./best_model.pth'])\n",
    "\n",
    "foo = len(os.listdir('outputs/inference'))\n",
    "#'./outputs/inference/res_{foo}/output_image.jpg'\n",
    "image = cv2.imread(f'./outputs/inference/res_{foo}/output_image.jpg', cv2.IMREAD_COLOR)\n",
    "cv2.imwrite('infer_image.jpg', image)\n",
    "plt.imshow(cv2.cvtColor(image, cv2.COLOR_BGR2RGB))\n",
    "plt.show()"
   ]
  },
  {
   "cell_type": "code",
   "execution_count": null,
   "id": "4d28be1a-8431-4f50-a290-28c7196be7f9",
   "metadata": {},
   "outputs": [
    {
     "name": "stdout",
     "output_type": "stream",
     "text": [
      "Building from model name arguments...\n",
      "Test instances: 1\n",
      "Image 1 done...\n",
      "--------------------------------------------------\n",
      "TEST PREDICTIONS COMPLETE\n",
      "Average FPS: 0.206\n",
      "Building from model name arguments...\n",
      "Test instances: 1\n",
      "Image 1 done...\n",
      "--------------------------------------------------\n",
      "TEST PREDICTIONS COMPLETE\n",
      "Average FPS: 0.296\n",
      "Building from model name arguments...\n",
      "Test instances: 1\n",
      "Image 1 done...\n",
      "--------------------------------------------------\n",
      "TEST PREDICTIONS COMPLETE\n",
      "Average FPS: 0.309\n",
      "Building from model name arguments...\n",
      "Test instances: 1\n",
      "Image 1 done...\n",
      "--------------------------------------------------\n",
      "TEST PREDICTIONS COMPLETE\n",
      "Average FPS: 0.211\n",
      "Building from model name arguments...\n",
      "Test instances: 1\n",
      "Image 1 done...\n",
      "--------------------------------------------------\n",
      "TEST PREDICTIONS COMPLETE\n",
      "Average FPS: 0.325\n",
      "Building from model name arguments...\n",
      "Test instances: 1\n",
      "Image 1 done...\n",
      "--------------------------------------------------\n",
      "TEST PREDICTIONS COMPLETE\n",
      "Average FPS: 0.299\n",
      "Building from model name arguments...\n",
      "Test instances: 1\n",
      "Image 1 done...\n",
      "--------------------------------------------------\n",
      "TEST PREDICTIONS COMPLETE\n",
      "Average FPS: 0.318\n",
      "Building from model name arguments...\n",
      "Test instances: 1\n",
      "Image 1 done...\n",
      "--------------------------------------------------\n",
      "TEST PREDICTIONS COMPLETE\n",
      "Average FPS: 0.326\n",
      "Building from model name arguments...\n",
      "Test instances: 1\n",
      "Image 1 done...\n",
      "--------------------------------------------------\n",
      "TEST PREDICTIONS COMPLETE\n",
      "Average FPS: 0.275\n",
      "Building from model name arguments...\n",
      "Test instances: 1\n",
      "Image 1 done...\n",
      "--------------------------------------------------\n",
      "TEST PREDICTIONS COMPLETE\n",
      "Average FPS: 0.300\n",
      "Building from model name arguments...\n",
      "Test instances: 1\n",
      "Image 1 done...\n",
      "--------------------------------------------------\n",
      "TEST PREDICTIONS COMPLETE\n",
      "Average FPS: 0.181\n",
      "Building from model name arguments...\n",
      "Test instances: 1\n",
      "Image 1 done...\n",
      "--------------------------------------------------\n",
      "TEST PREDICTIONS COMPLETE\n",
      "Average FPS: 0.300\n",
      "Building from model name arguments...\n",
      "Test instances: 1\n",
      "Image 1 done...\n",
      "--------------------------------------------------\n",
      "TEST PREDICTIONS COMPLETE\n",
      "Average FPS: 0.295\n",
      "Building from model name arguments...\n",
      "Test instances: 1\n",
      "Image 1 done...\n",
      "--------------------------------------------------\n",
      "TEST PREDICTIONS COMPLETE\n",
      "Average FPS: 0.325\n",
      "Building from model name arguments...\n",
      "Test instances: 1\n",
      "Image 1 done...\n",
      "--------------------------------------------------\n",
      "TEST PREDICTIONS COMPLETE\n",
      "Average FPS: 0.253\n",
      "Building from model name arguments...\n",
      "Test instances: 1\n",
      "Image 1 done...\n",
      "--------------------------------------------------\n",
      "TEST PREDICTIONS COMPLETE\n",
      "Average FPS: 0.334\n",
      "Building from model name arguments...\n",
      "Test instances: 1\n",
      "Image 1 done...\n",
      "--------------------------------------------------\n",
      "TEST PREDICTIONS COMPLETE\n",
      "Average FPS: 0.302\n",
      "Building from model name arguments...\n",
      "Test instances: 1\n",
      "Image 1 done...\n",
      "--------------------------------------------------\n",
      "TEST PREDICTIONS COMPLETE\n",
      "Average FPS: 0.346\n",
      "Building from model name arguments...\n",
      "Test instances: 1\n",
      "Image 1 done...\n",
      "--------------------------------------------------\n",
      "TEST PREDICTIONS COMPLETE\n",
      "Average FPS: 0.188\n",
      "Building from model name arguments...\n",
      "Test instances: 1\n",
      "Image 1 done...\n",
      "--------------------------------------------------\n",
      "TEST PREDICTIONS COMPLETE\n",
      "Average FPS: 0.352\n",
      "Building from model name arguments...\n",
      "Test instances: 1\n",
      "Image 1 done...\n",
      "--------------------------------------------------\n",
      "TEST PREDICTIONS COMPLETE\n",
      "Average FPS: 0.193\n",
      "Building from model name arguments...\n",
      "Test instances: 1\n",
      "Image 1 done...\n",
      "--------------------------------------------------\n",
      "TEST PREDICTIONS COMPLETE\n",
      "Average FPS: 0.338\n",
      "Building from model name arguments...\n",
      "Test instances: 1\n",
      "Image 1 done...\n",
      "--------------------------------------------------\n",
      "TEST PREDICTIONS COMPLETE\n",
      "Average FPS: 0.189\n",
      "Building from model name arguments...\n",
      "Test instances: 1\n",
      "Image 1 done...\n",
      "--------------------------------------------------\n",
      "TEST PREDICTIONS COMPLETE\n",
      "Average FPS: 0.339\n",
      "Building from model name arguments...\n",
      "Test instances: 1\n",
      "Image 1 done...\n",
      "--------------------------------------------------\n",
      "TEST PREDICTIONS COMPLETE\n",
      "Average FPS: 0.200\n",
      "Building from model name arguments...\n",
      "Test instances: 1\n",
      "Image 1 done...\n",
      "--------------------------------------------------\n",
      "TEST PREDICTIONS COMPLETE\n",
      "Average FPS: 0.342\n",
      "Building from model name arguments...\n",
      "Test instances: 1\n",
      "Image 1 done...\n",
      "--------------------------------------------------\n",
      "TEST PREDICTIONS COMPLETE\n",
      "Average FPS: 0.211\n",
      "Building from model name arguments...\n",
      "Test instances: 1\n",
      "Image 1 done...\n",
      "--------------------------------------------------\n",
      "TEST PREDICTIONS COMPLETE\n",
      "Average FPS: 0.336\n",
      "Building from model name arguments...\n",
      "Test instances: 1\n",
      "Image 1 done...\n",
      "--------------------------------------------------\n",
      "TEST PREDICTIONS COMPLETE\n",
      "Average FPS: 0.204\n",
      "Building from model name arguments...\n",
      "Test instances: 1\n",
      "Image 1 done...\n",
      "--------------------------------------------------\n",
      "TEST PREDICTIONS COMPLETE\n",
      "Average FPS: 0.306\n",
      "Building from model name arguments...\n",
      "Test instances: 1\n",
      "Image 1 done...\n",
      "--------------------------------------------------\n",
      "TEST PREDICTIONS COMPLETE\n",
      "Average FPS: 0.311\n",
      "Building from model name arguments...\n",
      "Test instances: 1\n",
      "Image 1 done...\n",
      "--------------------------------------------------\n",
      "TEST PREDICTIONS COMPLETE\n",
      "Average FPS: 0.295\n",
      "Building from model name arguments...\n",
      "Test instances: 1\n",
      "Image 1 done...\n",
      "--------------------------------------------------\n",
      "TEST PREDICTIONS COMPLETE\n",
      "Average FPS: 0.326\n",
      "Building from model name arguments...\n",
      "Test instances: 1\n",
      "Image 1 done...\n",
      "--------------------------------------------------\n",
      "TEST PREDICTIONS COMPLETE\n",
      "Average FPS: 0.323\n",
      "Building from model name arguments...\n",
      "Test instances: 1\n",
      "Image 1 done...\n",
      "--------------------------------------------------\n",
      "TEST PREDICTIONS COMPLETE\n",
      "Average FPS: 0.328\n",
      "Building from model name arguments...\n",
      "Test instances: 1\n",
      "Image 1 done...\n",
      "--------------------------------------------------\n",
      "TEST PREDICTIONS COMPLETE\n",
      "Average FPS: 0.281\n",
      "Building from model name arguments...\n",
      "Test instances: 1\n",
      "Image 1 done...\n",
      "--------------------------------------------------\n",
      "TEST PREDICTIONS COMPLETE\n",
      "Average FPS: 0.332\n",
      "Building from model name arguments...\n",
      "Test instances: 1\n",
      "Image 1 done...\n",
      "--------------------------------------------------\n",
      "TEST PREDICTIONS COMPLETE\n",
      "Average FPS: 0.167\n",
      "Building from model name arguments...\n",
      "Test instances: 1\n",
      "Image 1 done...\n",
      "--------------------------------------------------\n",
      "TEST PREDICTIONS COMPLETE\n",
      "Average FPS: 0.339\n",
      "Building from model name arguments...\n",
      "Test instances: 1\n",
      "Image 1 done...\n",
      "--------------------------------------------------\n",
      "TEST PREDICTIONS COMPLETE\n",
      "Average FPS: 0.290\n",
      "Building from model name arguments...\n",
      "Test instances: 1\n",
      "Image 1 done...\n",
      "--------------------------------------------------\n",
      "TEST PREDICTIONS COMPLETE\n",
      "Average FPS: 0.332\n",
      "Building from model name arguments...\n",
      "Test instances: 1\n",
      "Image 1 done...\n",
      "--------------------------------------------------\n",
      "TEST PREDICTIONS COMPLETE\n",
      "Average FPS: 0.244\n",
      "Building from model name arguments...\n",
      "Test instances: 1\n",
      "Image 1 done...\n",
      "--------------------------------------------------\n",
      "TEST PREDICTIONS COMPLETE\n",
      "Average FPS: 0.330\n",
      "Building from model name arguments...\n",
      "Test instances: 1\n",
      "Image 1 done...\n",
      "--------------------------------------------------\n",
      "TEST PREDICTIONS COMPLETE\n",
      "Average FPS: 0.190\n",
      "Building from model name arguments...\n",
      "Test instances: 1\n",
      "Image 1 done...\n",
      "--------------------------------------------------\n",
      "TEST PREDICTIONS COMPLETE\n",
      "Average FPS: 0.336\n",
      "Building from model name arguments...\n",
      "Test instances: 1\n",
      "Image 1 done...\n",
      "--------------------------------------------------\n",
      "TEST PREDICTIONS COMPLETE\n",
      "Average FPS: 0.257\n",
      "Building from model name arguments...\n",
      "Test instances: 1\n",
      "Image 1 done...\n",
      "--------------------------------------------------\n",
      "TEST PREDICTIONS COMPLETE\n",
      "Average FPS: 0.345\n",
      "Building from model name arguments...\n",
      "Test instances: 1\n",
      "Image 1 done...\n",
      "--------------------------------------------------\n",
      "TEST PREDICTIONS COMPLETE\n",
      "Average FPS: 0.261\n",
      "Building from model name arguments...\n",
      "Test instances: 1\n",
      "Image 1 done...\n",
      "--------------------------------------------------\n",
      "TEST PREDICTIONS COMPLETE\n",
      "Average FPS: 0.336\n",
      "Building from model name arguments...\n",
      "Test instances: 1\n",
      "Image 1 done...\n",
      "--------------------------------------------------\n",
      "TEST PREDICTIONS COMPLETE\n",
      "Average FPS: 0.169\n",
      "Building from model name arguments...\n",
      "Test instances: 1\n",
      "Image 1 done...\n",
      "--------------------------------------------------\n",
      "TEST PREDICTIONS COMPLETE\n",
      "Average FPS: 0.345\n",
      "Building from model name arguments...\n",
      "Test instances: 1\n",
      "Image 1 done...\n",
      "--------------------------------------------------\n",
      "TEST PREDICTIONS COMPLETE\n",
      "Average FPS: 0.198\n",
      "Building from model name arguments...\n",
      "Test instances: 1\n",
      "Image 1 done...\n",
      "--------------------------------------------------\n",
      "TEST PREDICTIONS COMPLETE\n",
      "Average FPS: 0.336\n",
      "Building from model name arguments...\n",
      "Test instances: 1\n",
      "Image 1 done...\n",
      "--------------------------------------------------\n",
      "TEST PREDICTIONS COMPLETE\n",
      "Average FPS: 0.267\n",
      "Building from model name arguments...\n",
      "Test instances: 1\n",
      "Image 1 done...\n",
      "--------------------------------------------------\n",
      "TEST PREDICTIONS COMPLETE\n",
      "Average FPS: 0.340\n",
      "Building from model name arguments...\n",
      "Test instances: 1\n",
      "Image 1 done...\n",
      "--------------------------------------------------\n",
      "TEST PREDICTIONS COMPLETE\n",
      "Average FPS: 0.210\n",
      "Building from model name arguments...\n",
      "Test instances: 1\n",
      "Image 1 done...\n",
      "--------------------------------------------------\n",
      "TEST PREDICTIONS COMPLETE\n",
      "Average FPS: 0.330\n"
     ]
    },
    {
     "name": "stderr",
     "output_type": "stream",
     "text": [
      "/home/user/.local/lib/python3.10/site-packages/torch/nn/modules/conv.py:456: UserWarning: Plan failed with a cudnnException: CUDNN_BACKEND_EXECUTION_PLAN_DESCRIPTOR: cudnnFinalize Descriptor Failed cudnn_status: CUDNN_STATUS_NOT_SUPPORTED (Triggered internally at ../aten/src/ATen/native/cudnn/Conv_v8.cpp:919.)\n",
      "  return F.conv2d(input, weight, bias, self.stride,\n"
     ]
    },
    {
     "name": "stdout",
     "output_type": "stream",
     "text": [
      "Building from model name arguments...\n",
      "Test instances: 1\n",
      "Image 1 done...\n",
      "--------------------------------------------------\n",
      "TEST PREDICTIONS COMPLETE\n",
      "Average FPS: 0.190\n"
     ]
    },
    {
     "name": "stderr",
     "output_type": "stream",
     "text": [
      "/home/user/.local/lib/python3.10/site-packages/torch/nn/modules/conv.py:456: UserWarning: Plan failed with a cudnnException: CUDNN_BACKEND_EXECUTION_PLAN_DESCRIPTOR: cudnnFinalize Descriptor Failed cudnn_status: CUDNN_STATUS_NOT_SUPPORTED (Triggered internally at ../aten/src/ATen/native/cudnn/Conv_v8.cpp:919.)\n",
      "  return F.conv2d(input, weight, bias, self.stride,\n"
     ]
    },
    {
     "name": "stdout",
     "output_type": "stream",
     "text": [
      "Building from model name arguments...\n",
      "Test instances: 1\n",
      "Image 1 done...\n",
      "--------------------------------------------------\n",
      "TEST PREDICTIONS COMPLETE\n",
      "Average FPS: 0.341\n"
     ]
    },
    {
     "name": "stderr",
     "output_type": "stream",
     "text": [
      "/home/user/.local/lib/python3.10/site-packages/torch/nn/modules/conv.py:456: UserWarning: Plan failed with a cudnnException: CUDNN_BACKEND_EXECUTION_PLAN_DESCRIPTOR: cudnnFinalize Descriptor Failed cudnn_status: CUDNN_STATUS_NOT_SUPPORTED (Triggered internally at ../aten/src/ATen/native/cudnn/Conv_v8.cpp:919.)\n",
      "  return F.conv2d(input, weight, bias, self.stride,\n"
     ]
    },
    {
     "name": "stdout",
     "output_type": "stream",
     "text": [
      "Building from model name arguments...\n",
      "Test instances: 1\n",
      "Image 1 done...\n",
      "--------------------------------------------------\n",
      "TEST PREDICTIONS COMPLETE\n",
      "Average FPS: 0.197\n"
     ]
    },
    {
     "name": "stderr",
     "output_type": "stream",
     "text": [
      "/home/user/.local/lib/python3.10/site-packages/torch/nn/modules/conv.py:456: UserWarning: Plan failed with a cudnnException: CUDNN_BACKEND_EXECUTION_PLAN_DESCRIPTOR: cudnnFinalize Descriptor Failed cudnn_status: CUDNN_STATUS_NOT_SUPPORTED (Triggered internally at ../aten/src/ATen/native/cudnn/Conv_v8.cpp:919.)\n",
      "  return F.conv2d(input, weight, bias, self.stride,\n"
     ]
    },
    {
     "name": "stdout",
     "output_type": "stream",
     "text": [
      "Building from model name arguments...\n",
      "Test instances: 1\n",
      "Image 1 done...\n",
      "--------------------------------------------------\n",
      "TEST PREDICTIONS COMPLETE\n",
      "Average FPS: 0.355\n"
     ]
    },
    {
     "name": "stderr",
     "output_type": "stream",
     "text": [
      "/home/user/.local/lib/python3.10/site-packages/torch/nn/modules/conv.py:456: UserWarning: Plan failed with a cudnnException: CUDNN_BACKEND_EXECUTION_PLAN_DESCRIPTOR: cudnnFinalize Descriptor Failed cudnn_status: CUDNN_STATUS_NOT_SUPPORTED (Triggered internally at ../aten/src/ATen/native/cudnn/Conv_v8.cpp:919.)\n",
      "  return F.conv2d(input, weight, bias, self.stride,\n"
     ]
    },
    {
     "name": "stdout",
     "output_type": "stream",
     "text": [
      "Building from model name arguments...\n",
      "Test instances: 1\n",
      "Image 1 done...\n",
      "--------------------------------------------------\n",
      "TEST PREDICTIONS COMPLETE\n",
      "Average FPS: 0.317\n"
     ]
    },
    {
     "name": "stderr",
     "output_type": "stream",
     "text": [
      "/home/user/.local/lib/python3.10/site-packages/torch/nn/modules/conv.py:456: UserWarning: Plan failed with a cudnnException: CUDNN_BACKEND_EXECUTION_PLAN_DESCRIPTOR: cudnnFinalize Descriptor Failed cudnn_status: CUDNN_STATUS_NOT_SUPPORTED (Triggered internally at ../aten/src/ATen/native/cudnn/Conv_v8.cpp:919.)\n",
      "  return F.conv2d(input, weight, bias, self.stride,\n"
     ]
    },
    {
     "name": "stdout",
     "output_type": "stream",
     "text": [
      "Building from model name arguments...\n",
      "Test instances: 1\n",
      "Image 1 done...\n",
      "--------------------------------------------------\n",
      "TEST PREDICTIONS COMPLETE\n",
      "Average FPS: 0.342\n"
     ]
    },
    {
     "name": "stderr",
     "output_type": "stream",
     "text": [
      "/home/user/.local/lib/python3.10/site-packages/torch/nn/modules/conv.py:456: UserWarning: Plan failed with a cudnnException: CUDNN_BACKEND_EXECUTION_PLAN_DESCRIPTOR: cudnnFinalize Descriptor Failed cudnn_status: CUDNN_STATUS_NOT_SUPPORTED (Triggered internally at ../aten/src/ATen/native/cudnn/Conv_v8.cpp:919.)\n",
      "  return F.conv2d(input, weight, bias, self.stride,\n"
     ]
    },
    {
     "name": "stdout",
     "output_type": "stream",
     "text": [
      "Building from model name arguments...\n",
      "Test instances: 1\n",
      "Image 1 done...\n",
      "--------------------------------------------------\n",
      "TEST PREDICTIONS COMPLETE\n",
      "Average FPS: 0.303\n"
     ]
    },
    {
     "name": "stderr",
     "output_type": "stream",
     "text": [
      "/home/user/.local/lib/python3.10/site-packages/torch/nn/modules/conv.py:456: UserWarning: Plan failed with a cudnnException: CUDNN_BACKEND_EXECUTION_PLAN_DESCRIPTOR: cudnnFinalize Descriptor Failed cudnn_status: CUDNN_STATUS_NOT_SUPPORTED (Triggered internally at ../aten/src/ATen/native/cudnn/Conv_v8.cpp:919.)\n",
      "  return F.conv2d(input, weight, bias, self.stride,\n"
     ]
    },
    {
     "name": "stdout",
     "output_type": "stream",
     "text": [
      "Building from model name arguments...\n",
      "Test instances: 1\n",
      "Image 1 done...\n",
      "--------------------------------------------------\n",
      "TEST PREDICTIONS COMPLETE\n",
      "Average FPS: 0.321\n"
     ]
    },
    {
     "name": "stderr",
     "output_type": "stream",
     "text": [
      "/home/user/.local/lib/python3.10/site-packages/torch/nn/modules/conv.py:456: UserWarning: Plan failed with a cudnnException: CUDNN_BACKEND_EXECUTION_PLAN_DESCRIPTOR: cudnnFinalize Descriptor Failed cudnn_status: CUDNN_STATUS_NOT_SUPPORTED (Triggered internally at ../aten/src/ATen/native/cudnn/Conv_v8.cpp:919.)\n",
      "  return F.conv2d(input, weight, bias, self.stride,\n"
     ]
    },
    {
     "name": "stdout",
     "output_type": "stream",
     "text": [
      "Building from model name arguments...\n",
      "Test instances: 1\n",
      "Image 1 done...\n",
      "--------------------------------------------------\n",
      "TEST PREDICTIONS COMPLETE\n",
      "Average FPS: 0.323\n"
     ]
    },
    {
     "name": "stderr",
     "output_type": "stream",
     "text": [
      "/home/user/.local/lib/python3.10/site-packages/torch/nn/modules/conv.py:456: UserWarning: Plan failed with a cudnnException: CUDNN_BACKEND_EXECUTION_PLAN_DESCRIPTOR: cudnnFinalize Descriptor Failed cudnn_status: CUDNN_STATUS_NOT_SUPPORTED (Triggered internally at ../aten/src/ATen/native/cudnn/Conv_v8.cpp:919.)\n",
      "  return F.conv2d(input, weight, bias, self.stride,\n"
     ]
    },
    {
     "name": "stdout",
     "output_type": "stream",
     "text": [
      "Building from model name arguments...\n",
      "Test instances: 1\n",
      "Image 1 done...\n",
      "--------------------------------------------------\n",
      "TEST PREDICTIONS COMPLETE\n",
      "Average FPS: 0.349\n"
     ]
    },
    {
     "name": "stderr",
     "output_type": "stream",
     "text": [
      "/home/user/.local/lib/python3.10/site-packages/torch/nn/modules/conv.py:456: UserWarning: Plan failed with a cudnnException: CUDNN_BACKEND_EXECUTION_PLAN_DESCRIPTOR: cudnnFinalize Descriptor Failed cudnn_status: CUDNN_STATUS_NOT_SUPPORTED (Triggered internally at ../aten/src/ATen/native/cudnn/Conv_v8.cpp:919.)\n",
      "  return F.conv2d(input, weight, bias, self.stride,\n"
     ]
    },
    {
     "name": "stdout",
     "output_type": "stream",
     "text": [
      "Building from model name arguments...\n",
      "Test instances: 1\n",
      "Image 1 done...\n",
      "--------------------------------------------------\n",
      "TEST PREDICTIONS COMPLETE\n",
      "Average FPS: 0.311\n"
     ]
    },
    {
     "name": "stderr",
     "output_type": "stream",
     "text": [
      "/home/user/.local/lib/python3.10/site-packages/torch/nn/modules/conv.py:456: UserWarning: Plan failed with a cudnnException: CUDNN_BACKEND_EXECUTION_PLAN_DESCRIPTOR: cudnnFinalize Descriptor Failed cudnn_status: CUDNN_STATUS_NOT_SUPPORTED (Triggered internally at ../aten/src/ATen/native/cudnn/Conv_v8.cpp:919.)\n",
      "  return F.conv2d(input, weight, bias, self.stride,\n"
     ]
    },
    {
     "name": "stdout",
     "output_type": "stream",
     "text": [
      "Building from model name arguments...\n",
      "Test instances: 1\n",
      "Image 1 done...\n",
      "--------------------------------------------------\n",
      "TEST PREDICTIONS COMPLETE\n",
      "Average FPS: 0.347\n"
     ]
    },
    {
     "name": "stderr",
     "output_type": "stream",
     "text": [
      "/home/user/.local/lib/python3.10/site-packages/torch/nn/modules/conv.py:456: UserWarning: Plan failed with a cudnnException: CUDNN_BACKEND_EXECUTION_PLAN_DESCRIPTOR: cudnnFinalize Descriptor Failed cudnn_status: CUDNN_STATUS_NOT_SUPPORTED (Triggered internally at ../aten/src/ATen/native/cudnn/Conv_v8.cpp:919.)\n",
      "  return F.conv2d(input, weight, bias, self.stride,\n"
     ]
    },
    {
     "name": "stdout",
     "output_type": "stream",
     "text": [
      "Building from model name arguments...\n",
      "Test instances: 1\n",
      "Image 1 done...\n",
      "--------------------------------------------------\n",
      "TEST PREDICTIONS COMPLETE\n",
      "Average FPS: 0.323\n"
     ]
    },
    {
     "name": "stderr",
     "output_type": "stream",
     "text": [
      "/home/user/.local/lib/python3.10/site-packages/torch/nn/modules/conv.py:456: UserWarning: Plan failed with a cudnnException: CUDNN_BACKEND_EXECUTION_PLAN_DESCRIPTOR: cudnnFinalize Descriptor Failed cudnn_status: CUDNN_STATUS_NOT_SUPPORTED (Triggered internally at ../aten/src/ATen/native/cudnn/Conv_v8.cpp:919.)\n",
      "  return F.conv2d(input, weight, bias, self.stride,\n"
     ]
    },
    {
     "name": "stdout",
     "output_type": "stream",
     "text": [
      "Building from model name arguments...\n",
      "Test instances: 1\n",
      "Image 1 done...\n",
      "--------------------------------------------------\n",
      "TEST PREDICTIONS COMPLETE\n",
      "Average FPS: 0.288\n"
     ]
    },
    {
     "name": "stderr",
     "output_type": "stream",
     "text": [
      "/home/user/.local/lib/python3.10/site-packages/torch/nn/modules/conv.py:456: UserWarning: Plan failed with a cudnnException: CUDNN_BACKEND_EXECUTION_PLAN_DESCRIPTOR: cudnnFinalize Descriptor Failed cudnn_status: CUDNN_STATUS_NOT_SUPPORTED (Triggered internally at ../aten/src/ATen/native/cudnn/Conv_v8.cpp:919.)\n",
      "  return F.conv2d(input, weight, bias, self.stride,\n"
     ]
    },
    {
     "name": "stdout",
     "output_type": "stream",
     "text": [
      "Building from model name arguments...\n",
      "Test instances: 1\n",
      "Image 1 done...\n",
      "--------------------------------------------------\n",
      "TEST PREDICTIONS COMPLETE\n",
      "Average FPS: 0.278\n"
     ]
    },
    {
     "name": "stderr",
     "output_type": "stream",
     "text": [
      "/home/user/.local/lib/python3.10/site-packages/torch/nn/modules/conv.py:456: UserWarning: Plan failed with a cudnnException: CUDNN_BACKEND_EXECUTION_PLAN_DESCRIPTOR: cudnnFinalize Descriptor Failed cudnn_status: CUDNN_STATUS_NOT_SUPPORTED (Triggered internally at ../aten/src/ATen/native/cudnn/Conv_v8.cpp:919.)\n",
      "  return F.conv2d(input, weight, bias, self.stride,\n"
     ]
    },
    {
     "name": "stdout",
     "output_type": "stream",
     "text": [
      "Building from model name arguments...\n",
      "Test instances: 1\n",
      "Image 1 done...\n",
      "--------------------------------------------------\n",
      "TEST PREDICTIONS COMPLETE\n",
      "Average FPS: 0.241\n"
     ]
    },
    {
     "name": "stderr",
     "output_type": "stream",
     "text": [
      "/home/user/.local/lib/python3.10/site-packages/torch/nn/modules/conv.py:456: UserWarning: Plan failed with a cudnnException: CUDNN_BACKEND_EXECUTION_PLAN_DESCRIPTOR: cudnnFinalize Descriptor Failed cudnn_status: CUDNN_STATUS_NOT_SUPPORTED (Triggered internally at ../aten/src/ATen/native/cudnn/Conv_v8.cpp:919.)\n",
      "  return F.conv2d(input, weight, bias, self.stride,\n"
     ]
    },
    {
     "name": "stdout",
     "output_type": "stream",
     "text": [
      "Building from model name arguments...\n",
      "Test instances: 1\n",
      "Image 1 done...\n",
      "--------------------------------------------------\n",
      "TEST PREDICTIONS COMPLETE\n",
      "Average FPS: 0.291\n"
     ]
    },
    {
     "name": "stderr",
     "output_type": "stream",
     "text": [
      "/home/user/.local/lib/python3.10/site-packages/torch/nn/modules/conv.py:456: UserWarning: Plan failed with a cudnnException: CUDNN_BACKEND_EXECUTION_PLAN_DESCRIPTOR: cudnnFinalize Descriptor Failed cudnn_status: CUDNN_STATUS_NOT_SUPPORTED (Triggered internally at ../aten/src/ATen/native/cudnn/Conv_v8.cpp:919.)\n",
      "  return F.conv2d(input, weight, bias, self.stride,\n"
     ]
    },
    {
     "name": "stdout",
     "output_type": "stream",
     "text": [
      "Building from model name arguments...\n",
      "Test instances: 1\n",
      "Image 1 done...\n",
      "--------------------------------------------------\n",
      "TEST PREDICTIONS COMPLETE\n",
      "Average FPS: 0.287\n"
     ]
    },
    {
     "name": "stderr",
     "output_type": "stream",
     "text": [
      "/home/user/.local/lib/python3.10/site-packages/torch/nn/modules/conv.py:456: UserWarning: Plan failed with a cudnnException: CUDNN_BACKEND_EXECUTION_PLAN_DESCRIPTOR: cudnnFinalize Descriptor Failed cudnn_status: CUDNN_STATUS_NOT_SUPPORTED (Triggered internally at ../aten/src/ATen/native/cudnn/Conv_v8.cpp:919.)\n",
      "  return F.conv2d(input, weight, bias, self.stride,\n"
     ]
    },
    {
     "name": "stdout",
     "output_type": "stream",
     "text": [
      "Building from model name arguments...\n",
      "Test instances: 1\n",
      "Image 1 done...\n",
      "--------------------------------------------------\n",
      "TEST PREDICTIONS COMPLETE\n",
      "Average FPS: 0.322\n"
     ]
    },
    {
     "name": "stderr",
     "output_type": "stream",
     "text": [
      "/home/user/.local/lib/python3.10/site-packages/torch/nn/modules/conv.py:456: UserWarning: Plan failed with a cudnnException: CUDNN_BACKEND_EXECUTION_PLAN_DESCRIPTOR: cudnnFinalize Descriptor Failed cudnn_status: CUDNN_STATUS_NOT_SUPPORTED (Triggered internally at ../aten/src/ATen/native/cudnn/Conv_v8.cpp:919.)\n",
      "  return F.conv2d(input, weight, bias, self.stride,\n"
     ]
    },
    {
     "name": "stdout",
     "output_type": "stream",
     "text": [
      "Building from model name arguments...\n",
      "Test instances: 1\n",
      "Image 1 done...\n",
      "--------------------------------------------------\n",
      "TEST PREDICTIONS COMPLETE\n",
      "Average FPS: 0.327\n"
     ]
    },
    {
     "name": "stderr",
     "output_type": "stream",
     "text": [
      "/home/user/.local/lib/python3.10/site-packages/torch/nn/modules/conv.py:456: UserWarning: Plan failed with a cudnnException: CUDNN_BACKEND_EXECUTION_PLAN_DESCRIPTOR: cudnnFinalize Descriptor Failed cudnn_status: CUDNN_STATUS_NOT_SUPPORTED (Triggered internally at ../aten/src/ATen/native/cudnn/Conv_v8.cpp:919.)\n",
      "  return F.conv2d(input, weight, bias, self.stride,\n"
     ]
    },
    {
     "name": "stdout",
     "output_type": "stream",
     "text": [
      "Building from model name arguments...\n",
      "Test instances: 1\n",
      "Image 1 done...\n",
      "--------------------------------------------------\n",
      "TEST PREDICTIONS COMPLETE\n",
      "Average FPS: 0.294\n"
     ]
    },
    {
     "name": "stderr",
     "output_type": "stream",
     "text": [
      "/home/user/.local/lib/python3.10/site-packages/torch/nn/modules/conv.py:456: UserWarning: Plan failed with a cudnnException: CUDNN_BACKEND_EXECUTION_PLAN_DESCRIPTOR: cudnnFinalize Descriptor Failed cudnn_status: CUDNN_STATUS_NOT_SUPPORTED (Triggered internally at ../aten/src/ATen/native/cudnn/Conv_v8.cpp:919.)\n",
      "  return F.conv2d(input, weight, bias, self.stride,\n"
     ]
    },
    {
     "name": "stdout",
     "output_type": "stream",
     "text": [
      "Building from model name arguments...\n",
      "Test instances: 1\n",
      "Image 1 done...\n",
      "--------------------------------------------------\n",
      "TEST PREDICTIONS COMPLETE\n",
      "Average FPS: 0.205\n"
     ]
    },
    {
     "name": "stderr",
     "output_type": "stream",
     "text": [
      "/home/user/.local/lib/python3.10/site-packages/torch/nn/modules/conv.py:456: UserWarning: Plan failed with a cudnnException: CUDNN_BACKEND_EXECUTION_PLAN_DESCRIPTOR: cudnnFinalize Descriptor Failed cudnn_status: CUDNN_STATUS_NOT_SUPPORTED (Triggered internally at ../aten/src/ATen/native/cudnn/Conv_v8.cpp:919.)\n",
      "  return F.conv2d(input, weight, bias, self.stride,\n"
     ]
    },
    {
     "name": "stdout",
     "output_type": "stream",
     "text": [
      "Building from model name arguments...\n",
      "Test instances: 1\n",
      "Image 1 done...\n",
      "--------------------------------------------------\n",
      "TEST PREDICTIONS COMPLETE\n",
      "Average FPS: 0.349\n"
     ]
    },
    {
     "name": "stderr",
     "output_type": "stream",
     "text": [
      "/home/user/.local/lib/python3.10/site-packages/torch/nn/modules/conv.py:456: UserWarning: Plan failed with a cudnnException: CUDNN_BACKEND_EXECUTION_PLAN_DESCRIPTOR: cudnnFinalize Descriptor Failed cudnn_status: CUDNN_STATUS_NOT_SUPPORTED (Triggered internally at ../aten/src/ATen/native/cudnn/Conv_v8.cpp:919.)\n",
      "  return F.conv2d(input, weight, bias, self.stride,\n"
     ]
    },
    {
     "name": "stdout",
     "output_type": "stream",
     "text": [
      "Building from model name arguments...\n",
      "Test instances: 1\n",
      "Image 1 done...\n",
      "--------------------------------------------------\n",
      "TEST PREDICTIONS COMPLETE\n",
      "Average FPS: 0.339\n"
     ]
    },
    {
     "name": "stderr",
     "output_type": "stream",
     "text": [
      "/home/user/.local/lib/python3.10/site-packages/torch/nn/modules/conv.py:456: UserWarning: Plan failed with a cudnnException: CUDNN_BACKEND_EXECUTION_PLAN_DESCRIPTOR: cudnnFinalize Descriptor Failed cudnn_status: CUDNN_STATUS_NOT_SUPPORTED (Triggered internally at ../aten/src/ATen/native/cudnn/Conv_v8.cpp:919.)\n",
      "  return F.conv2d(input, weight, bias, self.stride,\n"
     ]
    },
    {
     "name": "stdout",
     "output_type": "stream",
     "text": [
      "Building from model name arguments...\n",
      "Test instances: 1\n",
      "Image 1 done...\n",
      "--------------------------------------------------\n",
      "TEST PREDICTIONS COMPLETE\n",
      "Average FPS: 0.322\n"
     ]
    },
    {
     "name": "stderr",
     "output_type": "stream",
     "text": [
      "/home/user/.local/lib/python3.10/site-packages/torch/nn/modules/conv.py:456: UserWarning: Plan failed with a cudnnException: CUDNN_BACKEND_EXECUTION_PLAN_DESCRIPTOR: cudnnFinalize Descriptor Failed cudnn_status: CUDNN_STATUS_NOT_SUPPORTED (Triggered internally at ../aten/src/ATen/native/cudnn/Conv_v8.cpp:919.)\n",
      "  return F.conv2d(input, weight, bias, self.stride,\n"
     ]
    },
    {
     "name": "stdout",
     "output_type": "stream",
     "text": [
      "Building from model name arguments...\n",
      "Test instances: 1\n",
      "Image 1 done...\n",
      "--------------------------------------------------\n",
      "TEST PREDICTIONS COMPLETE\n",
      "Average FPS: 0.331\n"
     ]
    },
    {
     "name": "stderr",
     "output_type": "stream",
     "text": [
      "/home/user/.local/lib/python3.10/site-packages/torch/nn/modules/conv.py:456: UserWarning: Plan failed with a cudnnException: CUDNN_BACKEND_EXECUTION_PLAN_DESCRIPTOR: cudnnFinalize Descriptor Failed cudnn_status: CUDNN_STATUS_NOT_SUPPORTED (Triggered internally at ../aten/src/ATen/native/cudnn/Conv_v8.cpp:919.)\n",
      "  return F.conv2d(input, weight, bias, self.stride,\n"
     ]
    },
    {
     "name": "stdout",
     "output_type": "stream",
     "text": [
      "Building from model name arguments...\n",
      "Test instances: 1\n",
      "Image 1 done...\n",
      "--------------------------------------------------\n",
      "TEST PREDICTIONS COMPLETE\n",
      "Average FPS: 0.344\n"
     ]
    },
    {
     "name": "stderr",
     "output_type": "stream",
     "text": [
      "/home/user/.local/lib/python3.10/site-packages/torch/nn/modules/conv.py:456: UserWarning: Plan failed with a cudnnException: CUDNN_BACKEND_EXECUTION_PLAN_DESCRIPTOR: cudnnFinalize Descriptor Failed cudnn_status: CUDNN_STATUS_NOT_SUPPORTED (Triggered internally at ../aten/src/ATen/native/cudnn/Conv_v8.cpp:919.)\n",
      "  return F.conv2d(input, weight, bias, self.stride,\n"
     ]
    },
    {
     "name": "stdout",
     "output_type": "stream",
     "text": [
      "Building from model name arguments...\n",
      "Test instances: 1\n",
      "Image 1 done...\n",
      "--------------------------------------------------\n",
      "TEST PREDICTIONS COMPLETE\n",
      "Average FPS: 0.333\n"
     ]
    },
    {
     "name": "stderr",
     "output_type": "stream",
     "text": [
      "/home/user/.local/lib/python3.10/site-packages/torch/nn/modules/conv.py:456: UserWarning: Plan failed with a cudnnException: CUDNN_BACKEND_EXECUTION_PLAN_DESCRIPTOR: cudnnFinalize Descriptor Failed cudnn_status: CUDNN_STATUS_NOT_SUPPORTED (Triggered internally at ../aten/src/ATen/native/cudnn/Conv_v8.cpp:919.)\n",
      "  return F.conv2d(input, weight, bias, self.stride,\n"
     ]
    },
    {
     "name": "stdout",
     "output_type": "stream",
     "text": [
      "Building from model name arguments...\n",
      "Test instances: 1\n",
      "Image 1 done...\n",
      "--------------------------------------------------\n",
      "TEST PREDICTIONS COMPLETE\n",
      "Average FPS: 0.350\n"
     ]
    },
    {
     "name": "stderr",
     "output_type": "stream",
     "text": [
      "/home/user/.local/lib/python3.10/site-packages/torch/nn/modules/conv.py:456: UserWarning: Plan failed with a cudnnException: CUDNN_BACKEND_EXECUTION_PLAN_DESCRIPTOR: cudnnFinalize Descriptor Failed cudnn_status: CUDNN_STATUS_NOT_SUPPORTED (Triggered internally at ../aten/src/ATen/native/cudnn/Conv_v8.cpp:919.)\n",
      "  return F.conv2d(input, weight, bias, self.stride,\n"
     ]
    },
    {
     "name": "stdout",
     "output_type": "stream",
     "text": [
      "Building from model name arguments...\n",
      "Test instances: 1\n",
      "Image 1 done...\n",
      "--------------------------------------------------\n",
      "TEST PREDICTIONS COMPLETE\n",
      "Average FPS: 0.313\n"
     ]
    },
    {
     "name": "stderr",
     "output_type": "stream",
     "text": [
      "/home/user/.local/lib/python3.10/site-packages/torch/nn/modules/conv.py:456: UserWarning: Plan failed with a cudnnException: CUDNN_BACKEND_EXECUTION_PLAN_DESCRIPTOR: cudnnFinalize Descriptor Failed cudnn_status: CUDNN_STATUS_NOT_SUPPORTED (Triggered internally at ../aten/src/ATen/native/cudnn/Conv_v8.cpp:919.)\n",
      "  return F.conv2d(input, weight, bias, self.stride,\n"
     ]
    },
    {
     "name": "stdout",
     "output_type": "stream",
     "text": [
      "Building from model name arguments...\n",
      "Test instances: 1\n",
      "Image 1 done...\n",
      "--------------------------------------------------\n",
      "TEST PREDICTIONS COMPLETE\n",
      "Average FPS: 0.315\n"
     ]
    },
    {
     "name": "stderr",
     "output_type": "stream",
     "text": [
      "/home/user/.local/lib/python3.10/site-packages/torch/nn/modules/conv.py:456: UserWarning: Plan failed with a cudnnException: CUDNN_BACKEND_EXECUTION_PLAN_DESCRIPTOR: cudnnFinalize Descriptor Failed cudnn_status: CUDNN_STATUS_NOT_SUPPORTED (Triggered internally at ../aten/src/ATen/native/cudnn/Conv_v8.cpp:919.)\n",
      "  return F.conv2d(input, weight, bias, self.stride,\n"
     ]
    },
    {
     "name": "stdout",
     "output_type": "stream",
     "text": [
      "Building from model name arguments...\n",
      "Test instances: 1\n",
      "Image 1 done...\n",
      "--------------------------------------------------\n",
      "TEST PREDICTIONS COMPLETE\n",
      "Average FPS: 0.192\n"
     ]
    },
    {
     "name": "stderr",
     "output_type": "stream",
     "text": [
      "/home/user/.local/lib/python3.10/site-packages/torch/nn/modules/conv.py:456: UserWarning: Plan failed with a cudnnException: CUDNN_BACKEND_EXECUTION_PLAN_DESCRIPTOR: cudnnFinalize Descriptor Failed cudnn_status: CUDNN_STATUS_NOT_SUPPORTED (Triggered internally at ../aten/src/ATen/native/cudnn/Conv_v8.cpp:919.)\n",
      "  return F.conv2d(input, weight, bias, self.stride,\n"
     ]
    },
    {
     "name": "stdout",
     "output_type": "stream",
     "text": [
      "Building from model name arguments...\n",
      "Test instances: 1\n",
      "Image 1 done...\n",
      "--------------------------------------------------\n",
      "TEST PREDICTIONS COMPLETE\n",
      "Average FPS: 0.329\n",
      "Building from model name arguments...\n",
      "Test instances: 1\n",
      "Image 1 done...\n",
      "--------------------------------------------------\n",
      "TEST PREDICTIONS COMPLETE\n",
      "Average FPS: 0.274\n",
      "Building from model name arguments...\n",
      "Test instances: 1\n",
      "Image 1 done...\n",
      "--------------------------------------------------\n",
      "TEST PREDICTIONS COMPLETE\n",
      "Average FPS: 0.330\n",
      "Building from model name arguments...\n",
      "Test instances: 1\n",
      "Image 1 done...\n",
      "--------------------------------------------------\n",
      "TEST PREDICTIONS COMPLETE\n",
      "Average FPS: 0.320\n",
      "Building from model name arguments...\n",
      "Test instances: 1\n",
      "Image 1 done...\n",
      "--------------------------------------------------\n",
      "TEST PREDICTIONS COMPLETE\n",
      "Average FPS: 0.329\n"
     ]
    },
    {
     "name": "stderr",
     "output_type": "stream",
     "text": [
      "/home/user/.local/lib/python3.10/site-packages/torch/nn/modules/conv.py:456: UserWarning: Plan failed with a cudnnException: CUDNN_BACKEND_EXECUTION_PLAN_DESCRIPTOR: cudnnFinalize Descriptor Failed cudnn_status: CUDNN_STATUS_NOT_SUPPORTED (Triggered internally at ../aten/src/ATen/native/cudnn/Conv_v8.cpp:919.)\n",
      "  return F.conv2d(input, weight, bias, self.stride,\n"
     ]
    },
    {
     "name": "stdout",
     "output_type": "stream",
     "text": [
      "Building from model name arguments...\n",
      "Test instances: 1\n",
      "Image 1 done...\n",
      "--------------------------------------------------\n",
      "TEST PREDICTIONS COMPLETE\n",
      "Average FPS: 0.338\n",
      "Building from model name arguments...\n",
      "Test instances: 1\n",
      "Image 1 done...\n",
      "--------------------------------------------------\n",
      "TEST PREDICTIONS COMPLETE\n",
      "Average FPS: 0.254\n",
      "Building from model name arguments...\n",
      "Test instances: 1\n",
      "Image 1 done...\n",
      "--------------------------------------------------\n",
      "TEST PREDICTIONS COMPLETE\n",
      "Average FPS: 0.327\n"
     ]
    },
    {
     "name": "stderr",
     "output_type": "stream",
     "text": [
      "/home/user/.local/lib/python3.10/site-packages/torch/nn/modules/conv.py:456: UserWarning: Plan failed with a cudnnException: CUDNN_BACKEND_EXECUTION_PLAN_DESCRIPTOR: cudnnFinalize Descriptor Failed cudnn_status: CUDNN_STATUS_NOT_SUPPORTED (Triggered internally at ../aten/src/ATen/native/cudnn/Conv_v8.cpp:919.)\n",
      "  return F.conv2d(input, weight, bias, self.stride,\n"
     ]
    },
    {
     "name": "stdout",
     "output_type": "stream",
     "text": [
      "Building from model name arguments...\n",
      "Test instances: 1\n",
      "Image 1 done...\n",
      "--------------------------------------------------\n",
      "TEST PREDICTIONS COMPLETE\n",
      "Average FPS: 0.170\n",
      "Building from model name arguments...\n",
      "Test instances: 1\n",
      "Image 1 done...\n",
      "--------------------------------------------------\n",
      "TEST PREDICTIONS COMPLETE\n",
      "Average FPS: 0.293\n",
      "Building from model name arguments...\n",
      "Test instances: 1\n",
      "Image 1 done...\n",
      "--------------------------------------------------\n",
      "TEST PREDICTIONS COMPLETE\n",
      "Average FPS: 0.298\n"
     ]
    },
    {
     "name": "stderr",
     "output_type": "stream",
     "text": [
      "/home/user/.local/lib/python3.10/site-packages/torch/nn/modules/conv.py:456: UserWarning: Plan failed with a cudnnException: CUDNN_BACKEND_EXECUTION_PLAN_DESCRIPTOR: cudnnFinalize Descriptor Failed cudnn_status: CUDNN_STATUS_NOT_SUPPORTED (Triggered internally at ../aten/src/ATen/native/cudnn/Conv_v8.cpp:919.)\n",
      "  return F.conv2d(input, weight, bias, self.stride,\n"
     ]
    },
    {
     "name": "stdout",
     "output_type": "stream",
     "text": [
      "Building from model name arguments...\n",
      "Test instances: 1\n",
      "Image 1 done...\n",
      "--------------------------------------------------\n",
      "TEST PREDICTIONS COMPLETE\n",
      "Average FPS: 0.282\n"
     ]
    },
    {
     "name": "stderr",
     "output_type": "stream",
     "text": [
      "/home/user/.local/lib/python3.10/site-packages/torch/nn/modules/conv.py:456: UserWarning: Plan failed with a cudnnException: CUDNN_BACKEND_EXECUTION_PLAN_DESCRIPTOR: cudnnFinalize Descriptor Failed cudnn_status: CUDNN_STATUS_NOT_SUPPORTED (Triggered internally at ../aten/src/ATen/native/cudnn/Conv_v8.cpp:919.)\n",
      "  return F.conv2d(input, weight, bias, self.stride,\n"
     ]
    },
    {
     "name": "stdout",
     "output_type": "stream",
     "text": [
      "Building from model name arguments...\n",
      "Test instances: 1\n",
      "Image 1 done...\n",
      "--------------------------------------------------\n",
      "TEST PREDICTIONS COMPLETE\n",
      "Average FPS: 0.311\n"
     ]
    },
    {
     "name": "stderr",
     "output_type": "stream",
     "text": [
      "/home/user/.local/lib/python3.10/site-packages/torch/nn/modules/conv.py:456: UserWarning: Plan failed with a cudnnException: CUDNN_BACKEND_EXECUTION_PLAN_DESCRIPTOR: cudnnFinalize Descriptor Failed cudnn_status: CUDNN_STATUS_NOT_SUPPORTED (Triggered internally at ../aten/src/ATen/native/cudnn/Conv_v8.cpp:919.)\n",
      "  return F.conv2d(input, weight, bias, self.stride,\n"
     ]
    },
    {
     "name": "stdout",
     "output_type": "stream",
     "text": [
      "Building from model name arguments...\n",
      "Test instances: 1\n",
      "Image 1 done...\n",
      "--------------------------------------------------\n",
      "TEST PREDICTIONS COMPLETE\n",
      "Average FPS: 0.304\n"
     ]
    },
    {
     "name": "stderr",
     "output_type": "stream",
     "text": [
      "/home/user/.local/lib/python3.10/site-packages/torch/nn/modules/conv.py:456: UserWarning: Plan failed with a cudnnException: CUDNN_BACKEND_EXECUTION_PLAN_DESCRIPTOR: cudnnFinalize Descriptor Failed cudnn_status: CUDNN_STATUS_NOT_SUPPORTED (Triggered internally at ../aten/src/ATen/native/cudnn/Conv_v8.cpp:919.)\n",
      "  return F.conv2d(input, weight, bias, self.stride,\n"
     ]
    },
    {
     "name": "stdout",
     "output_type": "stream",
     "text": [
      "Building from model name arguments...\n",
      "Test instances: 1\n",
      "Image 1 done...\n",
      "--------------------------------------------------\n",
      "TEST PREDICTIONS COMPLETE\n",
      "Average FPS: 0.338\n"
     ]
    },
    {
     "name": "stderr",
     "output_type": "stream",
     "text": [
      "/home/user/.local/lib/python3.10/site-packages/torch/nn/modules/conv.py:456: UserWarning: Plan failed with a cudnnException: CUDNN_BACKEND_EXECUTION_PLAN_DESCRIPTOR: cudnnFinalize Descriptor Failed cudnn_status: CUDNN_STATUS_NOT_SUPPORTED (Triggered internally at ../aten/src/ATen/native/cudnn/Conv_v8.cpp:919.)\n",
      "  return F.conv2d(input, weight, bias, self.stride,\n"
     ]
    },
    {
     "name": "stdout",
     "output_type": "stream",
     "text": [
      "Building from model name arguments...\n",
      "Test instances: 1\n",
      "Image 1 done...\n",
      "--------------------------------------------------\n",
      "TEST PREDICTIONS COMPLETE\n",
      "Average FPS: 0.185\n"
     ]
    },
    {
     "name": "stderr",
     "output_type": "stream",
     "text": [
      "/home/user/.local/lib/python3.10/site-packages/torch/nn/modules/conv.py:456: UserWarning: Plan failed with a cudnnException: CUDNN_BACKEND_EXECUTION_PLAN_DESCRIPTOR: cudnnFinalize Descriptor Failed cudnn_status: CUDNN_STATUS_NOT_SUPPORTED (Triggered internally at ../aten/src/ATen/native/cudnn/Conv_v8.cpp:919.)\n",
      "  return F.conv2d(input, weight, bias, self.stride,\n"
     ]
    },
    {
     "name": "stdout",
     "output_type": "stream",
     "text": [
      "Building from model name arguments...\n",
      "Test instances: 1\n",
      "Image 1 done...\n",
      "--------------------------------------------------\n",
      "TEST PREDICTIONS COMPLETE\n",
      "Average FPS: 0.322\n"
     ]
    },
    {
     "name": "stderr",
     "output_type": "stream",
     "text": [
      "/home/user/.local/lib/python3.10/site-packages/torch/nn/modules/conv.py:456: UserWarning: Plan failed with a cudnnException: CUDNN_BACKEND_EXECUTION_PLAN_DESCRIPTOR: cudnnFinalize Descriptor Failed cudnn_status: CUDNN_STATUS_NOT_SUPPORTED (Triggered internally at ../aten/src/ATen/native/cudnn/Conv_v8.cpp:919.)\n",
      "  return F.conv2d(input, weight, bias, self.stride,\n"
     ]
    },
    {
     "name": "stdout",
     "output_type": "stream",
     "text": [
      "Building from model name arguments...\n",
      "Test instances: 1\n",
      "Image 1 done...\n",
      "--------------------------------------------------\n",
      "TEST PREDICTIONS COMPLETE\n",
      "Average FPS: 0.194\n"
     ]
    },
    {
     "name": "stderr",
     "output_type": "stream",
     "text": [
      "/home/user/.local/lib/python3.10/site-packages/torch/nn/modules/conv.py:456: UserWarning: Plan failed with a cudnnException: CUDNN_BACKEND_EXECUTION_PLAN_DESCRIPTOR: cudnnFinalize Descriptor Failed cudnn_status: CUDNN_STATUS_NOT_SUPPORTED (Triggered internally at ../aten/src/ATen/native/cudnn/Conv_v8.cpp:919.)\n",
      "  return F.conv2d(input, weight, bias, self.stride,\n"
     ]
    },
    {
     "name": "stdout",
     "output_type": "stream",
     "text": [
      "Building from model name arguments...\n",
      "Test instances: 1\n",
      "Image 1 done...\n",
      "--------------------------------------------------\n",
      "TEST PREDICTIONS COMPLETE\n",
      "Average FPS: 0.328\n"
     ]
    },
    {
     "name": "stderr",
     "output_type": "stream",
     "text": [
      "/home/user/.local/lib/python3.10/site-packages/torch/nn/modules/conv.py:456: UserWarning: Plan failed with a cudnnException: CUDNN_BACKEND_EXECUTION_PLAN_DESCRIPTOR: cudnnFinalize Descriptor Failed cudnn_status: CUDNN_STATUS_NOT_SUPPORTED (Triggered internally at ../aten/src/ATen/native/cudnn/Conv_v8.cpp:919.)\n",
      "  return F.conv2d(input, weight, bias, self.stride,\n"
     ]
    },
    {
     "name": "stdout",
     "output_type": "stream",
     "text": [
      "Building from model name arguments...\n",
      "Test instances: 1\n",
      "Image 1 done...\n",
      "--------------------------------------------------\n",
      "TEST PREDICTIONS COMPLETE\n",
      "Average FPS: 0.273\n"
     ]
    },
    {
     "name": "stderr",
     "output_type": "stream",
     "text": [
      "/home/user/.local/lib/python3.10/site-packages/torch/nn/modules/conv.py:456: UserWarning: Plan failed with a cudnnException: CUDNN_BACKEND_EXECUTION_PLAN_DESCRIPTOR: cudnnFinalize Descriptor Failed cudnn_status: CUDNN_STATUS_NOT_SUPPORTED (Triggered internally at ../aten/src/ATen/native/cudnn/Conv_v8.cpp:919.)\n",
      "  return F.conv2d(input, weight, bias, self.stride,\n"
     ]
    },
    {
     "name": "stdout",
     "output_type": "stream",
     "text": [
      "Building from model name arguments...\n",
      "Test instances: 1\n",
      "Image 1 done...\n",
      "--------------------------------------------------\n",
      "TEST PREDICTIONS COMPLETE\n",
      "Average FPS: 0.343\n"
     ]
    },
    {
     "name": "stderr",
     "output_type": "stream",
     "text": [
      "/home/user/.local/lib/python3.10/site-packages/torch/nn/modules/conv.py:456: UserWarning: Plan failed with a cudnnException: CUDNN_BACKEND_EXECUTION_PLAN_DESCRIPTOR: cudnnFinalize Descriptor Failed cudnn_status: CUDNN_STATUS_NOT_SUPPORTED (Triggered internally at ../aten/src/ATen/native/cudnn/Conv_v8.cpp:919.)\n",
      "  return F.conv2d(input, weight, bias, self.stride,\n"
     ]
    },
    {
     "name": "stdout",
     "output_type": "stream",
     "text": [
      "Building from model name arguments...\n",
      "Test instances: 1\n",
      "Image 1 done...\n",
      "--------------------------------------------------\n",
      "TEST PREDICTIONS COMPLETE\n",
      "Average FPS: 0.341\n"
     ]
    },
    {
     "name": "stderr",
     "output_type": "stream",
     "text": [
      "/home/user/.local/lib/python3.10/site-packages/torch/nn/modules/conv.py:456: UserWarning: Plan failed with a cudnnException: CUDNN_BACKEND_EXECUTION_PLAN_DESCRIPTOR: cudnnFinalize Descriptor Failed cudnn_status: CUDNN_STATUS_NOT_SUPPORTED (Triggered internally at ../aten/src/ATen/native/cudnn/Conv_v8.cpp:919.)\n",
      "  return F.conv2d(input, weight, bias, self.stride,\n"
     ]
    },
    {
     "name": "stdout",
     "output_type": "stream",
     "text": [
      "Building from model name arguments...\n",
      "Test instances: 1\n",
      "Image 1 done...\n",
      "--------------------------------------------------\n",
      "TEST PREDICTIONS COMPLETE\n",
      "Average FPS: 0.323\n"
     ]
    },
    {
     "name": "stderr",
     "output_type": "stream",
     "text": [
      "/home/user/.local/lib/python3.10/site-packages/torch/nn/modules/conv.py:456: UserWarning: Plan failed with a cudnnException: CUDNN_BACKEND_EXECUTION_PLAN_DESCRIPTOR: cudnnFinalize Descriptor Failed cudnn_status: CUDNN_STATUS_NOT_SUPPORTED (Triggered internally at ../aten/src/ATen/native/cudnn/Conv_v8.cpp:919.)\n",
      "  return F.conv2d(input, weight, bias, self.stride,\n"
     ]
    },
    {
     "name": "stdout",
     "output_type": "stream",
     "text": [
      "Building from model name arguments...\n",
      "Test instances: 1\n",
      "Image 1 done...\n",
      "--------------------------------------------------\n",
      "TEST PREDICTIONS COMPLETE\n",
      "Average FPS: 0.328\n"
     ]
    },
    {
     "name": "stderr",
     "output_type": "stream",
     "text": [
      "/home/user/.local/lib/python3.10/site-packages/torch/nn/modules/conv.py:456: UserWarning: Plan failed with a cudnnException: CUDNN_BACKEND_EXECUTION_PLAN_DESCRIPTOR: cudnnFinalize Descriptor Failed cudnn_status: CUDNN_STATUS_NOT_SUPPORTED (Triggered internally at ../aten/src/ATen/native/cudnn/Conv_v8.cpp:919.)\n",
      "  return F.conv2d(input, weight, bias, self.stride,\n"
     ]
    },
    {
     "name": "stdout",
     "output_type": "stream",
     "text": [
      "Building from model name arguments...\n",
      "Test instances: 1\n",
      "Image 1 done...\n",
      "--------------------------------------------------\n",
      "TEST PREDICTIONS COMPLETE\n",
      "Average FPS: 0.342\n"
     ]
    },
    {
     "name": "stderr",
     "output_type": "stream",
     "text": [
      "/home/user/.local/lib/python3.10/site-packages/torch/nn/modules/conv.py:456: UserWarning: Plan failed with a cudnnException: CUDNN_BACKEND_EXECUTION_PLAN_DESCRIPTOR: cudnnFinalize Descriptor Failed cudnn_status: CUDNN_STATUS_NOT_SUPPORTED (Triggered internally at ../aten/src/ATen/native/cudnn/Conv_v8.cpp:919.)\n",
      "  return F.conv2d(input, weight, bias, self.stride,\n"
     ]
    },
    {
     "name": "stdout",
     "output_type": "stream",
     "text": [
      "Building from model name arguments...\n",
      "Test instances: 1\n",
      "Image 1 done...\n",
      "--------------------------------------------------\n",
      "TEST PREDICTIONS COMPLETE\n",
      "Average FPS: 0.323\n"
     ]
    },
    {
     "name": "stderr",
     "output_type": "stream",
     "text": [
      "/home/user/.local/lib/python3.10/site-packages/torch/nn/modules/conv.py:456: UserWarning: Plan failed with a cudnnException: CUDNN_BACKEND_EXECUTION_PLAN_DESCRIPTOR: cudnnFinalize Descriptor Failed cudnn_status: CUDNN_STATUS_NOT_SUPPORTED (Triggered internally at ../aten/src/ATen/native/cudnn/Conv_v8.cpp:919.)\n",
      "  return F.conv2d(input, weight, bias, self.stride,\n"
     ]
    },
    {
     "name": "stdout",
     "output_type": "stream",
     "text": [
      "Building from model name arguments...\n",
      "Test instances: 1\n",
      "Image 1 done...\n",
      "--------------------------------------------------\n",
      "TEST PREDICTIONS COMPLETE\n",
      "Average FPS: 0.225\n"
     ]
    },
    {
     "name": "stderr",
     "output_type": "stream",
     "text": [
      "/home/user/.local/lib/python3.10/site-packages/torch/nn/modules/conv.py:456: UserWarning: Plan failed with a cudnnException: CUDNN_BACKEND_EXECUTION_PLAN_DESCRIPTOR: cudnnFinalize Descriptor Failed cudnn_status: CUDNN_STATUS_NOT_SUPPORTED (Triggered internally at ../aten/src/ATen/native/cudnn/Conv_v8.cpp:919.)\n",
      "  return F.conv2d(input, weight, bias, self.stride,\n"
     ]
    },
    {
     "name": "stdout",
     "output_type": "stream",
     "text": [
      "Building from model name arguments...\n",
      "Test instances: 1\n",
      "Image 1 done...\n",
      "--------------------------------------------------\n",
      "TEST PREDICTIONS COMPLETE\n",
      "Average FPS: 0.339\n"
     ]
    },
    {
     "name": "stderr",
     "output_type": "stream",
     "text": [
      "/home/user/.local/lib/python3.10/site-packages/torch/nn/modules/conv.py:456: UserWarning: Plan failed with a cudnnException: CUDNN_BACKEND_EXECUTION_PLAN_DESCRIPTOR: cudnnFinalize Descriptor Failed cudnn_status: CUDNN_STATUS_NOT_SUPPORTED (Triggered internally at ../aten/src/ATen/native/cudnn/Conv_v8.cpp:919.)\n",
      "  return F.conv2d(input, weight, bias, self.stride,\n"
     ]
    },
    {
     "name": "stdout",
     "output_type": "stream",
     "text": [
      "Building from model name arguments...\n",
      "Test instances: 1\n",
      "Image 1 done...\n",
      "--------------------------------------------------\n",
      "TEST PREDICTIONS COMPLETE\n",
      "Average FPS: 0.172\n"
     ]
    },
    {
     "name": "stderr",
     "output_type": "stream",
     "text": [
      "/home/user/.local/lib/python3.10/site-packages/torch/nn/modules/conv.py:456: UserWarning: Plan failed with a cudnnException: CUDNN_BACKEND_EXECUTION_PLAN_DESCRIPTOR: cudnnFinalize Descriptor Failed cudnn_status: CUDNN_STATUS_NOT_SUPPORTED (Triggered internally at ../aten/src/ATen/native/cudnn/Conv_v8.cpp:919.)\n",
      "  return F.conv2d(input, weight, bias, self.stride,\n"
     ]
    },
    {
     "name": "stdout",
     "output_type": "stream",
     "text": [
      "Building from model name arguments...\n",
      "Test instances: 1\n",
      "Image 1 done...\n",
      "--------------------------------------------------\n",
      "TEST PREDICTIONS COMPLETE\n",
      "Average FPS: 0.327\n"
     ]
    },
    {
     "name": "stderr",
     "output_type": "stream",
     "text": [
      "/home/user/.local/lib/python3.10/site-packages/torch/nn/modules/conv.py:456: UserWarning: Plan failed with a cudnnException: CUDNN_BACKEND_EXECUTION_PLAN_DESCRIPTOR: cudnnFinalize Descriptor Failed cudnn_status: CUDNN_STATUS_NOT_SUPPORTED (Triggered internally at ../aten/src/ATen/native/cudnn/Conv_v8.cpp:919.)\n",
      "  return F.conv2d(input, weight, bias, self.stride,\n"
     ]
    },
    {
     "name": "stdout",
     "output_type": "stream",
     "text": [
      "Building from model name arguments...\n",
      "Test instances: 1\n",
      "Image 1 done...\n",
      "--------------------------------------------------\n",
      "TEST PREDICTIONS COMPLETE\n",
      "Average FPS: 0.313\n"
     ]
    },
    {
     "name": "stderr",
     "output_type": "stream",
     "text": [
      "/home/user/.local/lib/python3.10/site-packages/torch/nn/modules/conv.py:456: UserWarning: Plan failed with a cudnnException: CUDNN_BACKEND_EXECUTION_PLAN_DESCRIPTOR: cudnnFinalize Descriptor Failed cudnn_status: CUDNN_STATUS_NOT_SUPPORTED (Triggered internally at ../aten/src/ATen/native/cudnn/Conv_v8.cpp:919.)\n",
      "  return F.conv2d(input, weight, bias, self.stride,\n"
     ]
    },
    {
     "name": "stdout",
     "output_type": "stream",
     "text": [
      "Building from model name arguments...\n",
      "Test instances: 1\n",
      "Image 1 done...\n",
      "--------------------------------------------------\n",
      "TEST PREDICTIONS COMPLETE\n",
      "Average FPS: 0.338\n"
     ]
    },
    {
     "name": "stderr",
     "output_type": "stream",
     "text": [
      "/home/user/.local/lib/python3.10/site-packages/torch/nn/modules/conv.py:456: UserWarning: Plan failed with a cudnnException: CUDNN_BACKEND_EXECUTION_PLAN_DESCRIPTOR: cudnnFinalize Descriptor Failed cudnn_status: CUDNN_STATUS_NOT_SUPPORTED (Triggered internally at ../aten/src/ATen/native/cudnn/Conv_v8.cpp:919.)\n",
      "  return F.conv2d(input, weight, bias, self.stride,\n"
     ]
    },
    {
     "name": "stdout",
     "output_type": "stream",
     "text": [
      "Building from model name arguments...\n",
      "Test instances: 1\n",
      "Image 1 done...\n",
      "--------------------------------------------------\n",
      "TEST PREDICTIONS COMPLETE\n",
      "Average FPS: 0.340\n"
     ]
    },
    {
     "name": "stderr",
     "output_type": "stream",
     "text": [
      "/home/user/.local/lib/python3.10/site-packages/torch/nn/modules/conv.py:456: UserWarning: Plan failed with a cudnnException: CUDNN_BACKEND_EXECUTION_PLAN_DESCRIPTOR: cudnnFinalize Descriptor Failed cudnn_status: CUDNN_STATUS_NOT_SUPPORTED (Triggered internally at ../aten/src/ATen/native/cudnn/Conv_v8.cpp:919.)\n",
      "  return F.conv2d(input, weight, bias, self.stride,\n"
     ]
    },
    {
     "name": "stdout",
     "output_type": "stream",
     "text": [
      "Building from model name arguments...\n",
      "Test instances: 1\n",
      "Image 1 done...\n",
      "--------------------------------------------------\n",
      "TEST PREDICTIONS COMPLETE\n",
      "Average FPS: 0.290\n"
     ]
    },
    {
     "name": "stderr",
     "output_type": "stream",
     "text": [
      "/home/user/.local/lib/python3.10/site-packages/torch/nn/modules/conv.py:456: UserWarning: Plan failed with a cudnnException: CUDNN_BACKEND_EXECUTION_PLAN_DESCRIPTOR: cudnnFinalize Descriptor Failed cudnn_status: CUDNN_STATUS_NOT_SUPPORTED (Triggered internally at ../aten/src/ATen/native/cudnn/Conv_v8.cpp:919.)\n",
      "  return F.conv2d(input, weight, bias, self.stride,\n"
     ]
    },
    {
     "name": "stdout",
     "output_type": "stream",
     "text": [
      "Building from model name arguments...\n",
      "Test instances: 1\n",
      "Image 1 done...\n",
      "--------------------------------------------------\n",
      "TEST PREDICTIONS COMPLETE\n",
      "Average FPS: 0.353\n"
     ]
    },
    {
     "name": "stderr",
     "output_type": "stream",
     "text": [
      "/home/user/.local/lib/python3.10/site-packages/torch/nn/modules/conv.py:456: UserWarning: Plan failed with a cudnnException: CUDNN_BACKEND_EXECUTION_PLAN_DESCRIPTOR: cudnnFinalize Descriptor Failed cudnn_status: CUDNN_STATUS_NOT_SUPPORTED (Triggered internally at ../aten/src/ATen/native/cudnn/Conv_v8.cpp:919.)\n",
      "  return F.conv2d(input, weight, bias, self.stride,\n"
     ]
    },
    {
     "name": "stdout",
     "output_type": "stream",
     "text": [
      "Building from model name arguments...\n",
      "Test instances: 1\n",
      "Image 1 done...\n",
      "--------------------------------------------------\n",
      "TEST PREDICTIONS COMPLETE\n",
      "Average FPS: 0.175\n"
     ]
    },
    {
     "name": "stderr",
     "output_type": "stream",
     "text": [
      "/home/user/.local/lib/python3.10/site-packages/torch/nn/modules/conv.py:456: UserWarning: Plan failed with a cudnnException: CUDNN_BACKEND_EXECUTION_PLAN_DESCRIPTOR: cudnnFinalize Descriptor Failed cudnn_status: CUDNN_STATUS_NOT_SUPPORTED (Triggered internally at ../aten/src/ATen/native/cudnn/Conv_v8.cpp:919.)\n",
      "  return F.conv2d(input, weight, bias, self.stride,\n"
     ]
    },
    {
     "name": "stdout",
     "output_type": "stream",
     "text": [
      "Building from model name arguments...\n",
      "Test instances: 1\n",
      "Image 1 done...\n",
      "--------------------------------------------------\n",
      "TEST PREDICTIONS COMPLETE\n",
      "Average FPS: 0.271\n"
     ]
    },
    {
     "name": "stderr",
     "output_type": "stream",
     "text": [
      "/home/user/.local/lib/python3.10/site-packages/torch/nn/modules/conv.py:456: UserWarning: Plan failed with a cudnnException: CUDNN_BACKEND_EXECUTION_PLAN_DESCRIPTOR: cudnnFinalize Descriptor Failed cudnn_status: CUDNN_STATUS_NOT_SUPPORTED (Triggered internally at ../aten/src/ATen/native/cudnn/Conv_v8.cpp:919.)\n",
      "  return F.conv2d(input, weight, bias, self.stride,\n"
     ]
    },
    {
     "name": "stdout",
     "output_type": "stream",
     "text": [
      "Building from model name arguments...\n",
      "Test instances: 1\n",
      "Image 1 done...\n",
      "--------------------------------------------------\n",
      "TEST PREDICTIONS COMPLETE\n",
      "Average FPS: 0.312\n"
     ]
    },
    {
     "name": "stderr",
     "output_type": "stream",
     "text": [
      "/home/user/.local/lib/python3.10/site-packages/torch/nn/modules/conv.py:456: UserWarning: Plan failed with a cudnnException: CUDNN_BACKEND_EXECUTION_PLAN_DESCRIPTOR: cudnnFinalize Descriptor Failed cudnn_status: CUDNN_STATUS_NOT_SUPPORTED (Triggered internally at ../aten/src/ATen/native/cudnn/Conv_v8.cpp:919.)\n",
      "  return F.conv2d(input, weight, bias, self.stride,\n"
     ]
    },
    {
     "name": "stdout",
     "output_type": "stream",
     "text": [
      "Building from model name arguments...\n",
      "Test instances: 1\n",
      "Image 1 done...\n",
      "--------------------------------------------------\n",
      "TEST PREDICTIONS COMPLETE\n",
      "Average FPS: 0.224\n"
     ]
    },
    {
     "name": "stderr",
     "output_type": "stream",
     "text": [
      "/home/user/.local/lib/python3.10/site-packages/torch/nn/modules/conv.py:456: UserWarning: Plan failed with a cudnnException: CUDNN_BACKEND_EXECUTION_PLAN_DESCRIPTOR: cudnnFinalize Descriptor Failed cudnn_status: CUDNN_STATUS_NOT_SUPPORTED (Triggered internally at ../aten/src/ATen/native/cudnn/Conv_v8.cpp:919.)\n",
      "  return F.conv2d(input, weight, bias, self.stride,\n"
     ]
    },
    {
     "name": "stdout",
     "output_type": "stream",
     "text": [
      "Building from model name arguments...\n",
      "Test instances: 1\n",
      "Image 1 done...\n",
      "--------------------------------------------------\n",
      "TEST PREDICTIONS COMPLETE\n",
      "Average FPS: 0.330\n",
      "Building from model name arguments...\n",
      "Test instances: 1\n",
      "Image 1 done...\n",
      "--------------------------------------------------\n",
      "TEST PREDICTIONS COMPLETE\n",
      "Average FPS: 0.209\n",
      "Building from model name arguments...\n",
      "Test instances: 1\n",
      "Image 1 done...\n",
      "--------------------------------------------------\n",
      "TEST PREDICTIONS COMPLETE\n",
      "Average FPS: 0.320\n",
      "Building from model name arguments...\n",
      "Test instances: 1\n",
      "Image 1 done...\n",
      "--------------------------------------------------\n",
      "TEST PREDICTIONS COMPLETE\n",
      "Average FPS: 0.254\n",
      "Building from model name arguments...\n",
      "Test instances: 1\n",
      "Image 1 done...\n",
      "--------------------------------------------------\n",
      "TEST PREDICTIONS COMPLETE\n",
      "Average FPS: 0.257\n",
      "Building from model name arguments...\n",
      "Test instances: 1\n",
      "Image 1 done...\n",
      "--------------------------------------------------\n",
      "TEST PREDICTIONS COMPLETE\n",
      "Average FPS: 0.318\n",
      "Building from model name arguments...\n",
      "Test instances: 1\n",
      "Image 1 done...\n",
      "--------------------------------------------------\n",
      "TEST PREDICTIONS COMPLETE\n",
      "Average FPS: 0.181\n",
      "Building from model name arguments...\n",
      "Test instances: 1\n",
      "Image 1 done...\n",
      "--------------------------------------------------\n",
      "TEST PREDICTIONS COMPLETE\n",
      "Average FPS: 0.302\n",
      "Building from model name arguments...\n",
      "Test instances: 1\n",
      "Image 1 done...\n",
      "--------------------------------------------------\n",
      "TEST PREDICTIONS COMPLETE\n",
      "Average FPS: 0.320\n",
      "Building from model name arguments...\n",
      "Test instances: 1\n",
      "Image 1 done...\n",
      "--------------------------------------------------\n",
      "TEST PREDICTIONS COMPLETE\n",
      "Average FPS: 0.250\n",
      "Building from model name arguments...\n",
      "Test instances: 1\n",
      "Image 1 done...\n",
      "--------------------------------------------------\n",
      "TEST PREDICTIONS COMPLETE\n",
      "Average FPS: 0.328\n",
      "Building from model name arguments...\n",
      "Test instances: 1\n",
      "Image 1 done...\n",
      "--------------------------------------------------\n",
      "TEST PREDICTIONS COMPLETE\n",
      "Average FPS: 0.198\n",
      "Building from model name arguments...\n",
      "Test instances: 1\n",
      "Image 1 done...\n",
      "--------------------------------------------------\n",
      "TEST PREDICTIONS COMPLETE\n",
      "Average FPS: 0.306\n",
      "Building from model name arguments...\n",
      "Test instances: 1\n",
      "Image 1 done...\n",
      "--------------------------------------------------\n",
      "TEST PREDICTIONS COMPLETE\n",
      "Average FPS: 0.277\n",
      "Building from model name arguments...\n",
      "Test instances: 1\n",
      "Image 1 done...\n",
      "--------------------------------------------------\n",
      "TEST PREDICTIONS COMPLETE\n",
      "Average FPS: 0.273\n",
      "Building from model name arguments...\n",
      "Test instances: 1\n",
      "Image 1 done...\n",
      "--------------------------------------------------\n",
      "TEST PREDICTIONS COMPLETE\n",
      "Average FPS: 0.290\n",
      "Building from model name arguments...\n",
      "Test instances: 1\n",
      "Image 1 done...\n",
      "--------------------------------------------------\n",
      "TEST PREDICTIONS COMPLETE\n",
      "Average FPS: 0.191\n",
      "Building from model name arguments...\n",
      "Test instances: 1\n",
      "Image 1 done...\n",
      "--------------------------------------------------\n",
      "TEST PREDICTIONS COMPLETE\n",
      "Average FPS: 0.233\n",
      "Building from model name arguments...\n",
      "Test instances: 1\n",
      "Image 1 done...\n",
      "--------------------------------------------------\n",
      "TEST PREDICTIONS COMPLETE\n",
      "Average FPS: 0.316\n",
      "Building from model name arguments...\n",
      "Test instances: 1\n",
      "Image 1 done...\n",
      "--------------------------------------------------\n",
      "TEST PREDICTIONS COMPLETE\n",
      "Average FPS: 0.173\n",
      "Building from model name arguments...\n",
      "Test instances: 1\n",
      "Image 1 done...\n",
      "--------------------------------------------------\n",
      "TEST PREDICTIONS COMPLETE\n",
      "Average FPS: 0.300\n",
      "Building from model name arguments...\n",
      "Test instances: 1\n",
      "Image 1 done...\n",
      "--------------------------------------------------\n",
      "TEST PREDICTIONS COMPLETE\n",
      "Average FPS: 0.295\n",
      "Building from model name arguments...\n",
      "Test instances: 1\n",
      "Image 1 done...\n",
      "--------------------------------------------------\n",
      "TEST PREDICTIONS COMPLETE\n",
      "Average FPS: 0.276\n",
      "Building from model name arguments...\n",
      "Test instances: 1\n",
      "Image 1 done...\n",
      "--------------------------------------------------\n",
      "TEST PREDICTIONS COMPLETE\n",
      "Average FPS: 0.305\n",
      "Building from model name arguments...\n",
      "Test instances: 1\n",
      "Image 1 done...\n",
      "--------------------------------------------------\n",
      "TEST PREDICTIONS COMPLETE\n",
      "Average FPS: 0.206\n",
      "Building from model name arguments...\n",
      "Test instances: 1\n",
      "Image 1 done...\n",
      "--------------------------------------------------\n",
      "TEST PREDICTIONS COMPLETE\n",
      "Average FPS: 0.220\n",
      "Building from model name arguments...\n",
      "Test instances: 1\n",
      "Image 1 done...\n",
      "--------------------------------------------------\n",
      "TEST PREDICTIONS COMPLETE\n",
      "Average FPS: 0.301\n",
      "Building from model name arguments...\n",
      "Test instances: 1\n",
      "Image 1 done...\n",
      "--------------------------------------------------\n",
      "TEST PREDICTIONS COMPLETE\n",
      "Average FPS: 0.191\n",
      "Building from model name arguments...\n",
      "Test instances: 1\n",
      "Image 1 done...\n",
      "--------------------------------------------------\n",
      "TEST PREDICTIONS COMPLETE\n",
      "Average FPS: 0.258\n"
     ]
    }
   ],
   "source": [
    "import os\n",
    "import subprocess\n",
    "import requests\n",
    "from random import choice\n",
    "import cv2\n",
    "import streamlink\n",
    "\n",
    "def fetch_content_from_gcs(link):\n",
    "    alp = list(map(chr, range(97, 123)))\n",
    "    link = link + \"?\"+choice(alp)+choice(alp)+'='+choice(alp)+choice(alp)\n",
    "    try:\n",
    "        response = requests.get(link)\n",
    "        if response.status_code == 200:\n",
    "            return response.text\n",
    "        else:\n",
    "            return f\"Error fetching content. Status code: {response.status_code}\"\n",
    "    except requests.RequestException as e:\n",
    "        return f\"Error: {e}\"\n",
    "\n",
    "def upload_to_bucket(blob_name, content, bucket_name):\n",
    "    bucket = storage_client.bucket(bucket_name)\n",
    "    blob = bucket.blob(blob_name)\n",
    "    blob.upload_from_filename(content)\n",
    "\n",
    "gcs_link = \"https://storage.googleapis.com/dl_cnn_a3_3dprintfail/link.txt\"\n",
    "while True:\n",
    "    content = fetch_content_from_gcs(gcs_link)\n",
    "    streams = streamlink.streams(content)\n",
    "    if \"best\" not in streams.keys():\n",
    "        continue\n",
    "    \n",
    "    stream_url = streams[\"best\"].url\n",
    "        \n",
    "    vcap = cv2.VideoCapture(stream_url)\n",
    "    image = vcap.read()[1]\n",
    "    cv2.imwrite('output_image.jpg', image)\n",
    "\n",
    "    #change this to be an in-process function where the model can be kept in memory, ideally yolo for faster inferencing\n",
    "    subprocess.run(['python3', 'ObjectDetection-FasterRCNN-master/inference.py','--input','./output_image.jpg','--weights','./best_model.pth'])\n",
    "    \n",
    "    foo = len(os.listdir('outputs/inference'))\n",
    "    upload_to_bucket('infer_image.jpg', f'./outputs/inference/res_{foo}/output_image.jpg', 'dl_cnn_a3_3dprintfail')\n",
    "    #image = cv2.imread(f'./outputs/inference/res_{foo}/output_image.jpg', cv2.IMREAD_COLOR)\n",
    "    #cv2.imwrite('infer_image.jpg', image)"
   ]
  }
 ],
 "metadata": {
  "kernelspec": {
   "display_name": "Python 3 (ipykernel)",
   "language": "python",
   "name": "python3"
  },
  "language_info": {
   "codemirror_mode": {
    "name": "ipython",
    "version": 3
   },
   "file_extension": ".py",
   "mimetype": "text/x-python",
   "name": "python",
   "nbconvert_exporter": "python",
   "pygments_lexer": "ipython3",
   "version": "3.8.10"
  }
 },
 "nbformat": 4,
 "nbformat_minor": 5
}
